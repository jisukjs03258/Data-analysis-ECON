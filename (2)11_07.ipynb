{
  "nbformat": 4,
  "nbformat_minor": 0,
  "metadata": {
    "colab": {
      "provenance": [],
      "authorship_tag": "ABX9TyNJ5LxN8QKtImt5JUWtQG5N",
      "include_colab_link": true
    },
    "kernelspec": {
      "name": "python3",
      "display_name": "Python 3"
    },
    "language_info": {
      "name": "python"
    }
  },
  "cells": [
    {
      "cell_type": "markdown",
      "metadata": {
        "id": "view-in-github",
        "colab_type": "text"
      },
      "source": [
        "<a href=\"https://colab.research.google.com/github/jisukjs03258/Data-analysis-ECON/blob/final/(2)11_07.ipynb\" target=\"_parent\"><img src=\"https://colab.research.google.com/assets/colab-badge.svg\" alt=\"Open In Colab\"/></a>"
      ]
    },
    {
      "cell_type": "code",
      "source": [
        "import numpy as np\n",
        "import pandas as pd\n",
        "import matplotlib.pyplot as plt\n",
        "import seaborn as sns"
      ],
      "metadata": {
        "id": "1yM_fGjawP7u"
      },
      "execution_count": null,
      "outputs": []
    },
    {
      "cell_type": "code",
      "source": [
        "from google.colab import files"
      ],
      "metadata": {
        "id": "Y5bcR_2XzhYl"
      },
      "execution_count": null,
      "outputs": []
    },
    {
      "cell_type": "code",
      "source": [
        "df=pd.read_csv(\"housing_dataset.csv\")"
      ],
      "metadata": {
        "id": "B_Ewm15Fznpy"
      },
      "execution_count": null,
      "outputs": []
    },
    {
      "cell_type": "code",
      "source": [
        "df.head()  # 0은 데이터가 있는것 / NaN은 없는 것"
      ],
      "metadata": {
        "colab": {
          "base_uri": "https://localhost:8080/",
          "height": 236
        },
        "id": "DaAstVSzz4nl",
        "outputId": "77e8b9c2-3560-4102-fcea-5b8447f80cc7"
      },
      "execution_count": null,
      "outputs": [
        {
          "output_type": "execute_result",
          "data": {
            "text/plain": [
              "   Id  MSSubClass MSZoning  LotFrontage  LotArea Street Alley LotShape  \\\n",
              "0   1          60       RL         65.0     8450   Pave   NaN      Reg   \n",
              "1   2          20       RL         80.0     9600   Pave   NaN      Reg   \n",
              "2   3          60       RL         68.0    11250   Pave   NaN      IR1   \n",
              "3   4          70       RL         60.0     9550   Pave   NaN      IR1   \n",
              "4   5          60       RL         84.0    14260   Pave   NaN      IR1   \n",
              "\n",
              "  LandContour Utilities  ... PoolArea PoolQC Fence MiscFeature MiscVal MoSold  \\\n",
              "0         Lvl    AllPub  ...        0    NaN   NaN         NaN       0      2   \n",
              "1         Lvl    AllPub  ...        0    NaN   NaN         NaN       0      5   \n",
              "2         Lvl    AllPub  ...        0    NaN   NaN         NaN       0      9   \n",
              "3         Lvl    AllPub  ...        0    NaN   NaN         NaN       0      2   \n",
              "4         Lvl    AllPub  ...        0    NaN   NaN         NaN       0     12   \n",
              "\n",
              "  YrSold  SaleType  SaleCondition  SalePrice  \n",
              "0   2008        WD         Normal     208500  \n",
              "1   2007        WD         Normal     181500  \n",
              "2   2008        WD         Normal     223500  \n",
              "3   2006        WD        Abnorml     140000  \n",
              "4   2008        WD         Normal     250000  \n",
              "\n",
              "[5 rows x 81 columns]"
            ],
            "text/html": [
              "\n",
              "  <div id=\"df-d75bb900-a843-4e00-ab95-a2e3f6164419\" class=\"colab-df-container\">\n",
              "    <div>\n",
              "<style scoped>\n",
              "    .dataframe tbody tr th:only-of-type {\n",
              "        vertical-align: middle;\n",
              "    }\n",
              "\n",
              "    .dataframe tbody tr th {\n",
              "        vertical-align: top;\n",
              "    }\n",
              "\n",
              "    .dataframe thead th {\n",
              "        text-align: right;\n",
              "    }\n",
              "</style>\n",
              "<table border=\"1\" class=\"dataframe\">\n",
              "  <thead>\n",
              "    <tr style=\"text-align: right;\">\n",
              "      <th></th>\n",
              "      <th>Id</th>\n",
              "      <th>MSSubClass</th>\n",
              "      <th>MSZoning</th>\n",
              "      <th>LotFrontage</th>\n",
              "      <th>LotArea</th>\n",
              "      <th>Street</th>\n",
              "      <th>Alley</th>\n",
              "      <th>LotShape</th>\n",
              "      <th>LandContour</th>\n",
              "      <th>Utilities</th>\n",
              "      <th>...</th>\n",
              "      <th>PoolArea</th>\n",
              "      <th>PoolQC</th>\n",
              "      <th>Fence</th>\n",
              "      <th>MiscFeature</th>\n",
              "      <th>MiscVal</th>\n",
              "      <th>MoSold</th>\n",
              "      <th>YrSold</th>\n",
              "      <th>SaleType</th>\n",
              "      <th>SaleCondition</th>\n",
              "      <th>SalePrice</th>\n",
              "    </tr>\n",
              "  </thead>\n",
              "  <tbody>\n",
              "    <tr>\n",
              "      <th>0</th>\n",
              "      <td>1</td>\n",
              "      <td>60</td>\n",
              "      <td>RL</td>\n",
              "      <td>65.0</td>\n",
              "      <td>8450</td>\n",
              "      <td>Pave</td>\n",
              "      <td>NaN</td>\n",
              "      <td>Reg</td>\n",
              "      <td>Lvl</td>\n",
              "      <td>AllPub</td>\n",
              "      <td>...</td>\n",
              "      <td>0</td>\n",
              "      <td>NaN</td>\n",
              "      <td>NaN</td>\n",
              "      <td>NaN</td>\n",
              "      <td>0</td>\n",
              "      <td>2</td>\n",
              "      <td>2008</td>\n",
              "      <td>WD</td>\n",
              "      <td>Normal</td>\n",
              "      <td>208500</td>\n",
              "    </tr>\n",
              "    <tr>\n",
              "      <th>1</th>\n",
              "      <td>2</td>\n",
              "      <td>20</td>\n",
              "      <td>RL</td>\n",
              "      <td>80.0</td>\n",
              "      <td>9600</td>\n",
              "      <td>Pave</td>\n",
              "      <td>NaN</td>\n",
              "      <td>Reg</td>\n",
              "      <td>Lvl</td>\n",
              "      <td>AllPub</td>\n",
              "      <td>...</td>\n",
              "      <td>0</td>\n",
              "      <td>NaN</td>\n",
              "      <td>NaN</td>\n",
              "      <td>NaN</td>\n",
              "      <td>0</td>\n",
              "      <td>5</td>\n",
              "      <td>2007</td>\n",
              "      <td>WD</td>\n",
              "      <td>Normal</td>\n",
              "      <td>181500</td>\n",
              "    </tr>\n",
              "    <tr>\n",
              "      <th>2</th>\n",
              "      <td>3</td>\n",
              "      <td>60</td>\n",
              "      <td>RL</td>\n",
              "      <td>68.0</td>\n",
              "      <td>11250</td>\n",
              "      <td>Pave</td>\n",
              "      <td>NaN</td>\n",
              "      <td>IR1</td>\n",
              "      <td>Lvl</td>\n",
              "      <td>AllPub</td>\n",
              "      <td>...</td>\n",
              "      <td>0</td>\n",
              "      <td>NaN</td>\n",
              "      <td>NaN</td>\n",
              "      <td>NaN</td>\n",
              "      <td>0</td>\n",
              "      <td>9</td>\n",
              "      <td>2008</td>\n",
              "      <td>WD</td>\n",
              "      <td>Normal</td>\n",
              "      <td>223500</td>\n",
              "    </tr>\n",
              "    <tr>\n",
              "      <th>3</th>\n",
              "      <td>4</td>\n",
              "      <td>70</td>\n",
              "      <td>RL</td>\n",
              "      <td>60.0</td>\n",
              "      <td>9550</td>\n",
              "      <td>Pave</td>\n",
              "      <td>NaN</td>\n",
              "      <td>IR1</td>\n",
              "      <td>Lvl</td>\n",
              "      <td>AllPub</td>\n",
              "      <td>...</td>\n",
              "      <td>0</td>\n",
              "      <td>NaN</td>\n",
              "      <td>NaN</td>\n",
              "      <td>NaN</td>\n",
              "      <td>0</td>\n",
              "      <td>2</td>\n",
              "      <td>2006</td>\n",
              "      <td>WD</td>\n",
              "      <td>Abnorml</td>\n",
              "      <td>140000</td>\n",
              "    </tr>\n",
              "    <tr>\n",
              "      <th>4</th>\n",
              "      <td>5</td>\n",
              "      <td>60</td>\n",
              "      <td>RL</td>\n",
              "      <td>84.0</td>\n",
              "      <td>14260</td>\n",
              "      <td>Pave</td>\n",
              "      <td>NaN</td>\n",
              "      <td>IR1</td>\n",
              "      <td>Lvl</td>\n",
              "      <td>AllPub</td>\n",
              "      <td>...</td>\n",
              "      <td>0</td>\n",
              "      <td>NaN</td>\n",
              "      <td>NaN</td>\n",
              "      <td>NaN</td>\n",
              "      <td>0</td>\n",
              "      <td>12</td>\n",
              "      <td>2008</td>\n",
              "      <td>WD</td>\n",
              "      <td>Normal</td>\n",
              "      <td>250000</td>\n",
              "    </tr>\n",
              "  </tbody>\n",
              "</table>\n",
              "<p>5 rows × 81 columns</p>\n",
              "</div>\n",
              "    <div class=\"colab-df-buttons\">\n",
              "\n",
              "  <div class=\"colab-df-container\">\n",
              "    <button class=\"colab-df-convert\" onclick=\"convertToInteractive('df-d75bb900-a843-4e00-ab95-a2e3f6164419')\"\n",
              "            title=\"Convert this dataframe to an interactive table.\"\n",
              "            style=\"display:none;\">\n",
              "\n",
              "  <svg xmlns=\"http://www.w3.org/2000/svg\" height=\"24px\" viewBox=\"0 -960 960 960\">\n",
              "    <path d=\"M120-120v-720h720v720H120Zm60-500h600v-160H180v160Zm220 220h160v-160H400v160Zm0 220h160v-160H400v160ZM180-400h160v-160H180v160Zm440 0h160v-160H620v160ZM180-180h160v-160H180v160Zm440 0h160v-160H620v160Z\"/>\n",
              "  </svg>\n",
              "    </button>\n",
              "\n",
              "  <style>\n",
              "    .colab-df-container {\n",
              "      display:flex;\n",
              "      gap: 12px;\n",
              "    }\n",
              "\n",
              "    .colab-df-convert {\n",
              "      background-color: #E8F0FE;\n",
              "      border: none;\n",
              "      border-radius: 50%;\n",
              "      cursor: pointer;\n",
              "      display: none;\n",
              "      fill: #1967D2;\n",
              "      height: 32px;\n",
              "      padding: 0 0 0 0;\n",
              "      width: 32px;\n",
              "    }\n",
              "\n",
              "    .colab-df-convert:hover {\n",
              "      background-color: #E2EBFA;\n",
              "      box-shadow: 0px 1px 2px rgba(60, 64, 67, 0.3), 0px 1px 3px 1px rgba(60, 64, 67, 0.15);\n",
              "      fill: #174EA6;\n",
              "    }\n",
              "\n",
              "    .colab-df-buttons div {\n",
              "      margin-bottom: 4px;\n",
              "    }\n",
              "\n",
              "    [theme=dark] .colab-df-convert {\n",
              "      background-color: #3B4455;\n",
              "      fill: #D2E3FC;\n",
              "    }\n",
              "\n",
              "    [theme=dark] .colab-df-convert:hover {\n",
              "      background-color: #434B5C;\n",
              "      box-shadow: 0px 1px 3px 1px rgba(0, 0, 0, 0.15);\n",
              "      filter: drop-shadow(0px 1px 2px rgba(0, 0, 0, 0.3));\n",
              "      fill: #FFFFFF;\n",
              "    }\n",
              "  </style>\n",
              "\n",
              "    <script>\n",
              "      const buttonEl =\n",
              "        document.querySelector('#df-d75bb900-a843-4e00-ab95-a2e3f6164419 button.colab-df-convert');\n",
              "      buttonEl.style.display =\n",
              "        google.colab.kernel.accessAllowed ? 'block' : 'none';\n",
              "\n",
              "      async function convertToInteractive(key) {\n",
              "        const element = document.querySelector('#df-d75bb900-a843-4e00-ab95-a2e3f6164419');\n",
              "        const dataTable =\n",
              "          await google.colab.kernel.invokeFunction('convertToInteractive',\n",
              "                                                    [key], {});\n",
              "        if (!dataTable) return;\n",
              "\n",
              "        const docLinkHtml = 'Like what you see? Visit the ' +\n",
              "          '<a target=\"_blank\" href=https://colab.research.google.com/notebooks/data_table.ipynb>data table notebook</a>'\n",
              "          + ' to learn more about interactive tables.';\n",
              "        element.innerHTML = '';\n",
              "        dataTable['output_type'] = 'display_data';\n",
              "        await google.colab.output.renderOutput(dataTable, element);\n",
              "        const docLink = document.createElement('div');\n",
              "        docLink.innerHTML = docLinkHtml;\n",
              "        element.appendChild(docLink);\n",
              "      }\n",
              "    </script>\n",
              "  </div>\n",
              "\n",
              "\n",
              "<div id=\"df-5cd03ecd-7091-4b18-b04d-a403f721de82\">\n",
              "  <button class=\"colab-df-quickchart\" onclick=\"quickchart('df-5cd03ecd-7091-4b18-b04d-a403f721de82')\"\n",
              "            title=\"Suggest charts.\"\n",
              "            style=\"display:none;\">\n",
              "\n",
              "<svg xmlns=\"http://www.w3.org/2000/svg\" height=\"24px\"viewBox=\"0 0 24 24\"\n",
              "     width=\"24px\">\n",
              "    <g>\n",
              "        <path d=\"M19 3H5c-1.1 0-2 .9-2 2v14c0 1.1.9 2 2 2h14c1.1 0 2-.9 2-2V5c0-1.1-.9-2-2-2zM9 17H7v-7h2v7zm4 0h-2V7h2v10zm4 0h-2v-4h2v4z\"/>\n",
              "    </g>\n",
              "</svg>\n",
              "  </button>\n",
              "\n",
              "<style>\n",
              "  .colab-df-quickchart {\n",
              "      --bg-color: #E8F0FE;\n",
              "      --fill-color: #1967D2;\n",
              "      --hover-bg-color: #E2EBFA;\n",
              "      --hover-fill-color: #174EA6;\n",
              "      --disabled-fill-color: #AAA;\n",
              "      --disabled-bg-color: #DDD;\n",
              "  }\n",
              "\n",
              "  [theme=dark] .colab-df-quickchart {\n",
              "      --bg-color: #3B4455;\n",
              "      --fill-color: #D2E3FC;\n",
              "      --hover-bg-color: #434B5C;\n",
              "      --hover-fill-color: #FFFFFF;\n",
              "      --disabled-bg-color: #3B4455;\n",
              "      --disabled-fill-color: #666;\n",
              "  }\n",
              "\n",
              "  .colab-df-quickchart {\n",
              "    background-color: var(--bg-color);\n",
              "    border: none;\n",
              "    border-radius: 50%;\n",
              "    cursor: pointer;\n",
              "    display: none;\n",
              "    fill: var(--fill-color);\n",
              "    height: 32px;\n",
              "    padding: 0;\n",
              "    width: 32px;\n",
              "  }\n",
              "\n",
              "  .colab-df-quickchart:hover {\n",
              "    background-color: var(--hover-bg-color);\n",
              "    box-shadow: 0 1px 2px rgba(60, 64, 67, 0.3), 0 1px 3px 1px rgba(60, 64, 67, 0.15);\n",
              "    fill: var(--button-hover-fill-color);\n",
              "  }\n",
              "\n",
              "  .colab-df-quickchart-complete:disabled,\n",
              "  .colab-df-quickchart-complete:disabled:hover {\n",
              "    background-color: var(--disabled-bg-color);\n",
              "    fill: var(--disabled-fill-color);\n",
              "    box-shadow: none;\n",
              "  }\n",
              "\n",
              "  .colab-df-spinner {\n",
              "    border: 2px solid var(--fill-color);\n",
              "    border-color: transparent;\n",
              "    border-bottom-color: var(--fill-color);\n",
              "    animation:\n",
              "      spin 1s steps(1) infinite;\n",
              "  }\n",
              "\n",
              "  @keyframes spin {\n",
              "    0% {\n",
              "      border-color: transparent;\n",
              "      border-bottom-color: var(--fill-color);\n",
              "      border-left-color: var(--fill-color);\n",
              "    }\n",
              "    20% {\n",
              "      border-color: transparent;\n",
              "      border-left-color: var(--fill-color);\n",
              "      border-top-color: var(--fill-color);\n",
              "    }\n",
              "    30% {\n",
              "      border-color: transparent;\n",
              "      border-left-color: var(--fill-color);\n",
              "      border-top-color: var(--fill-color);\n",
              "      border-right-color: var(--fill-color);\n",
              "    }\n",
              "    40% {\n",
              "      border-color: transparent;\n",
              "      border-right-color: var(--fill-color);\n",
              "      border-top-color: var(--fill-color);\n",
              "    }\n",
              "    60% {\n",
              "      border-color: transparent;\n",
              "      border-right-color: var(--fill-color);\n",
              "    }\n",
              "    80% {\n",
              "      border-color: transparent;\n",
              "      border-right-color: var(--fill-color);\n",
              "      border-bottom-color: var(--fill-color);\n",
              "    }\n",
              "    90% {\n",
              "      border-color: transparent;\n",
              "      border-bottom-color: var(--fill-color);\n",
              "    }\n",
              "  }\n",
              "</style>\n",
              "\n",
              "  <script>\n",
              "    async function quickchart(key) {\n",
              "      const quickchartButtonEl =\n",
              "        document.querySelector('#' + key + ' button');\n",
              "      quickchartButtonEl.disabled = true;  // To prevent multiple clicks.\n",
              "      quickchartButtonEl.classList.add('colab-df-spinner');\n",
              "      try {\n",
              "        const charts = await google.colab.kernel.invokeFunction(\n",
              "            'suggestCharts', [key], {});\n",
              "      } catch (error) {\n",
              "        console.error('Error during call to suggestCharts:', error);\n",
              "      }\n",
              "      quickchartButtonEl.classList.remove('colab-df-spinner');\n",
              "      quickchartButtonEl.classList.add('colab-df-quickchart-complete');\n",
              "    }\n",
              "    (() => {\n",
              "      let quickchartButtonEl =\n",
              "        document.querySelector('#df-5cd03ecd-7091-4b18-b04d-a403f721de82 button');\n",
              "      quickchartButtonEl.style.display =\n",
              "        google.colab.kernel.accessAllowed ? 'block' : 'none';\n",
              "    })();\n",
              "  </script>\n",
              "</div>\n",
              "    </div>\n",
              "  </div>\n"
            ]
          },
          "metadata": {},
          "execution_count": 9
        }
      ]
    },
    {
      "cell_type": "code",
      "source": [
        "df.info()"
      ],
      "metadata": {
        "colab": {
          "base_uri": "https://localhost:8080/"
        },
        "id": "bLVNlVES0t9s",
        "outputId": "91f10c3f-5cb6-48fe-dabd-30c6a97a4ed3"
      },
      "execution_count": null,
      "outputs": [
        {
          "output_type": "stream",
          "name": "stdout",
          "text": [
            "<class 'pandas.core.frame.DataFrame'>\n",
            "RangeIndex: 1460 entries, 0 to 1459\n",
            "Data columns (total 81 columns):\n",
            " #   Column         Non-Null Count  Dtype  \n",
            "---  ------         --------------  -----  \n",
            " 0   Id             1460 non-null   int64  \n",
            " 1   MSSubClass     1460 non-null   int64  \n",
            " 2   MSZoning       1460 non-null   object \n",
            " 3   LotFrontage    1201 non-null   float64\n",
            " 4   LotArea        1460 non-null   int64  \n",
            " 5   Street         1460 non-null   object \n",
            " 6   Alley          91 non-null     object \n",
            " 7   LotShape       1460 non-null   object \n",
            " 8   LandContour    1460 non-null   object \n",
            " 9   Utilities      1460 non-null   object \n",
            " 10  LotConfig      1460 non-null   object \n",
            " 11  LandSlope      1460 non-null   object \n",
            " 12  Neighborhood   1460 non-null   object \n",
            " 13  Condition1     1460 non-null   object \n",
            " 14  Condition2     1460 non-null   object \n",
            " 15  BldgType       1460 non-null   object \n",
            " 16  HouseStyle     1460 non-null   object \n",
            " 17  OverallQual    1460 non-null   int64  \n",
            " 18  OverallCond    1460 non-null   int64  \n",
            " 19  YearBuilt      1460 non-null   int64  \n",
            " 20  YearRemodAdd   1460 non-null   int64  \n",
            " 21  RoofStyle      1460 non-null   object \n",
            " 22  RoofMatl       1460 non-null   object \n",
            " 23  Exterior1st    1460 non-null   object \n",
            " 24  Exterior2nd    1460 non-null   object \n",
            " 25  MasVnrType     1452 non-null   object \n",
            " 26  MasVnrArea     1452 non-null   float64\n",
            " 27  ExterQual      1460 non-null   object \n",
            " 28  ExterCond      1460 non-null   object \n",
            " 29  Foundation     1460 non-null   object \n",
            " 30  BsmtQual       1423 non-null   object \n",
            " 31  BsmtCond       1423 non-null   object \n",
            " 32  BsmtExposure   1422 non-null   object \n",
            " 33  BsmtFinType1   1423 non-null   object \n",
            " 34  BsmtFinSF1     1460 non-null   int64  \n",
            " 35  BsmtFinType2   1422 non-null   object \n",
            " 36  BsmtFinSF2     1460 non-null   int64  \n",
            " 37  BsmtUnfSF      1460 non-null   int64  \n",
            " 38  TotalBsmtSF    1460 non-null   int64  \n",
            " 39  Heating        1460 non-null   object \n",
            " 40  HeatingQC      1460 non-null   object \n",
            " 41  CentralAir     1460 non-null   object \n",
            " 42  Electrical     1459 non-null   object \n",
            " 43  1stFlrSF       1460 non-null   int64  \n",
            " 44  2ndFlrSF       1460 non-null   int64  \n",
            " 45  LowQualFinSF   1460 non-null   int64  \n",
            " 46  GrLivArea      1460 non-null   int64  \n",
            " 47  BsmtFullBath   1460 non-null   int64  \n",
            " 48  BsmtHalfBath   1460 non-null   int64  \n",
            " 49  FullBath       1460 non-null   int64  \n",
            " 50  HalfBath       1460 non-null   int64  \n",
            " 51  BedroomAbvGr   1460 non-null   int64  \n",
            " 52  KitchenAbvGr   1460 non-null   int64  \n",
            " 53  KitchenQual    1460 non-null   object \n",
            " 54  TotRmsAbvGrd   1460 non-null   int64  \n",
            " 55  Functional     1460 non-null   object \n",
            " 56  Fireplaces     1460 non-null   int64  \n",
            " 57  FireplaceQu    770 non-null    object \n",
            " 58  GarageType     1379 non-null   object \n",
            " 59  GarageYrBlt    1379 non-null   float64\n",
            " 60  GarageFinish   1379 non-null   object \n",
            " 61  GarageCars     1460 non-null   int64  \n",
            " 62  GarageArea     1460 non-null   int64  \n",
            " 63  GarageQual     1379 non-null   object \n",
            " 64  GarageCond     1379 non-null   object \n",
            " 65  PavedDrive     1460 non-null   object \n",
            " 66  WoodDeckSF     1460 non-null   int64  \n",
            " 67  OpenPorchSF    1460 non-null   int64  \n",
            " 68  EnclosedPorch  1460 non-null   int64  \n",
            " 69  3SsnPorch      1460 non-null   int64  \n",
            " 70  ScreenPorch    1460 non-null   int64  \n",
            " 71  PoolArea       1460 non-null   int64  \n",
            " 72  PoolQC         7 non-null      object \n",
            " 73  Fence          281 non-null    object \n",
            " 74  MiscFeature    54 non-null     object \n",
            " 75  MiscVal        1460 non-null   int64  \n",
            " 76  MoSold         1460 non-null   int64  \n",
            " 77  YrSold         1460 non-null   int64  \n",
            " 78  SaleType       1460 non-null   object \n",
            " 79  SaleCondition  1460 non-null   object \n",
            " 80  SalePrice      1460 non-null   int64  \n",
            "dtypes: float64(3), int64(35), object(43)\n",
            "memory usage: 924.0+ KB\n"
          ]
        }
      ]
    },
    {
      "cell_type": "code",
      "source": [
        "df.isnull().sum() #너무 길어서 처음 5개, 마지막 5개가 나왔음"
      ],
      "metadata": {
        "colab": {
          "base_uri": "https://localhost:8080/"
        },
        "id": "o-eqXRYG1_pr",
        "outputId": "ceaaf138-cea2-4090-b7e2-1a52d8ba9832"
      },
      "execution_count": null,
      "outputs": [
        {
          "output_type": "execute_result",
          "data": {
            "text/plain": [
              "Id                 0\n",
              "MSSubClass         0\n",
              "MSZoning           0\n",
              "LotFrontage      259\n",
              "LotArea            0\n",
              "                ... \n",
              "MoSold             0\n",
              "YrSold             0\n",
              "SaleType           0\n",
              "SaleCondition      0\n",
              "SalePrice          0\n",
              "Length: 81, dtype: int64"
            ]
          },
          "metadata": {},
          "execution_count": 12
        }
      ]
    },
    {
      "cell_type": "code",
      "source": [
        "sns.barplot(data=df.isnull().sum().reset_index(),y=\"index\",x=0)\n",
        "plt.show()"
      ],
      "metadata": {
        "colab": {
          "base_uri": "https://localhost:8080/",
          "height": 453
        },
        "id": "dA6X2ekN2Wup",
        "outputId": "a31c38e9-8e10-4beb-eb28-7c8faf5c6c78"
      },
      "execution_count": null,
      "outputs": [
        {
          "output_type": "display_data",
          "data": {
            "text/plain": [
              "<Figure size 640x480 with 1 Axes>"
            ],
            "image/png": "[encoded data removed]"
          },
          "metadata": {}
        }
      ]
    },
    {
      "cell_type": "code",
      "source": [
        "missing_val=df.isnull().sum()"
      ],
      "metadata": {
        "id": "FSALlLqO2q2W"
      },
      "execution_count": null,
      "outputs": []
    },
    {
      "cell_type": "code",
      "source": [
        "missing_val"
      ],
      "metadata": {
        "colab": {
          "base_uri": "https://localhost:8080/"
        },
        "id": "IgcZbY_Q3F78",
        "outputId": "82542e98-6346-4b50-8ae2-dbfee1c0ee6d"
      },
      "execution_count": null,
      "outputs": [
        {
          "output_type": "execute_result",
          "data": {
            "text/plain": [
              "Id                 0\n",
              "MSSubClass         0\n",
              "MSZoning           0\n",
              "LotFrontage      259\n",
              "LotArea            0\n",
              "                ... \n",
              "MoSold             0\n",
              "YrSold             0\n",
              "SaleType           0\n",
              "SaleCondition      0\n",
              "SalePrice          0\n",
              "Length: 81, dtype: int64"
            ]
          },
          "metadata": {},
          "execution_count": 19
        }
      ]
    },
    {
      "cell_type": "code",
      "source": [
        "sns.barplot(data=missing_val[missing_val>0].reset_index(), y=\"index\", x=0) #missing value 만 가지고 그래프 그려보기\n",
        "plt.show()"
      ],
      "metadata": {
        "colab": {
          "base_uri": "https://localhost:8080/",
          "height": 449
        },
        "id": "8FDvQF-a3HkP",
        "outputId": "8978edcc-f05f-4576-c02b-8e7fc961de6e"
      },
      "execution_count": null,
      "outputs": [
        {
          "output_type": "display_data",
          "data": {
            "text/plain": [
              "<Figure size 640x480 with 1 Axes>"
            ],
            "image/png": "[encoded data removed]"
          },
          "metadata": {}
        }
      ]
    },
    {
      "cell_type": "code",
      "source": [
        "len(missing_val[missing_val>0]) #missing value 개수 구하기"
      ],
      "metadata": {
        "colab": {
          "base_uri": "https://localhost:8080/"
        },
        "id": "hoym8StR3c9X",
        "outputId": "a1fa3123-8caa-41a2-af65-595356f26d97"
      },
      "execution_count": null,
      "outputs": [
        {
          "output_type": "execute_result",
          "data": {
            "text/plain": [
              "19"
            ]
          },
          "metadata": {},
          "execution_count": 24
        }
      ]
    },
    {
      "cell_type": "code",
      "source": [
        "df.info() # row-1460, column-81"
      ],
      "metadata": {
        "colab": {
          "base_uri": "https://localhost:8080/"
        },
        "id": "RwVu2ZUj3yk-",
        "outputId": "8d8f2e41-965b-4889-cf26-795d69ad11c8"
      },
      "execution_count": null,
      "outputs": [
        {
          "output_type": "stream",
          "name": "stdout",
          "text": [
            "<class 'pandas.core.frame.DataFrame'>\n",
            "RangeIndex: 1460 entries, 0 to 1459\n",
            "Data columns (total 81 columns):\n",
            " #   Column         Non-Null Count  Dtype  \n",
            "---  ------         --------------  -----  \n",
            " 0   Id             1460 non-null   int64  \n",
            " 1   MSSubClass     1460 non-null   int64  \n",
            " 2   MSZoning       1460 non-null   object \n",
            " 3   LotFrontage    1201 non-null   float64\n",
            " 4   LotArea        1460 non-null   int64  \n",
            " 5   Street         1460 non-null   object \n",
            " 6   Alley          91 non-null     object \n",
            " 7   LotShape       1460 non-null   object \n",
            " 8   LandContour    1460 non-null   object \n",
            " 9   Utilities      1460 non-null   object \n",
            " 10  LotConfig      1460 non-null   object \n",
            " 11  LandSlope      1460 non-null   object \n",
            " 12  Neighborhood   1460 non-null   object \n",
            " 13  Condition1     1460 non-null   object \n",
            " 14  Condition2     1460 non-null   object \n",
            " 15  BldgType       1460 non-null   object \n",
            " 16  HouseStyle     1460 non-null   object \n",
            " 17  OverallQual    1460 non-null   int64  \n",
            " 18  OverallCond    1460 non-null   int64  \n",
            " 19  YearBuilt      1460 non-null   int64  \n",
            " 20  YearRemodAdd   1460 non-null   int64  \n",
            " 21  RoofStyle      1460 non-null   object \n",
            " 22  RoofMatl       1460 non-null   object \n",
            " 23  Exterior1st    1460 non-null   object \n",
            " 24  Exterior2nd    1460 non-null   object \n",
            " 25  MasVnrType     1452 non-null   object \n",
            " 26  MasVnrArea     1452 non-null   float64\n",
            " 27  ExterQual      1460 non-null   object \n",
            " 28  ExterCond      1460 non-null   object \n",
            " 29  Foundation     1460 non-null   object \n",
            " 30  BsmtQual       1423 non-null   object \n",
            " 31  BsmtCond       1423 non-null   object \n",
            " 32  BsmtExposure   1422 non-null   object \n",
            " 33  BsmtFinType1   1423 non-null   object \n",
            " 34  BsmtFinSF1     1460 non-null   int64  \n",
            " 35  BsmtFinType2   1422 non-null   object \n",
            " 36  BsmtFinSF2     1460 non-null   int64  \n",
            " 37  BsmtUnfSF      1460 non-null   int64  \n",
            " 38  TotalBsmtSF    1460 non-null   int64  \n",
            " 39  Heating        1460 non-null   object \n",
            " 40  HeatingQC      1460 non-null   object \n",
            " 41  CentralAir     1460 non-null   object \n",
            " 42  Electrical     1459 non-null   object \n",
            " 43  1stFlrSF       1460 non-null   int64  \n",
            " 44  2ndFlrSF       1460 non-null   int64  \n",
            " 45  LowQualFinSF   1460 non-null   int64  \n",
            " 46  GrLivArea      1460 non-null   int64  \n",
            " 47  BsmtFullBath   1460 non-null   int64  \n",
            " 48  BsmtHalfBath   1460 non-null   int64  \n",
            " 49  FullBath       1460 non-null   int64  \n",
            " 50  HalfBath       1460 non-null   int64  \n",
            " 51  BedroomAbvGr   1460 non-null   int64  \n",
            " 52  KitchenAbvGr   1460 non-null   int64  \n",
            " 53  KitchenQual    1460 non-null   object \n",
            " 54  TotRmsAbvGrd   1460 non-null   int64  \n",
            " 55  Functional     1460 non-null   object \n",
            " 56  Fireplaces     1460 non-null   int64  \n",
            " 57  FireplaceQu    770 non-null    object \n",
            " 58  GarageType     1379 non-null   object \n",
            " 59  GarageYrBlt    1379 non-null   float64\n",
            " 60  GarageFinish   1379 non-null   object \n",
            " 61  GarageCars     1460 non-null   int64  \n",
            " 62  GarageArea     1460 non-null   int64  \n",
            " 63  GarageQual     1379 non-null   object \n",
            " 64  GarageCond     1379 non-null   object \n",
            " 65  PavedDrive     1460 non-null   object \n",
            " 66  WoodDeckSF     1460 non-null   int64  \n",
            " 67  OpenPorchSF    1460 non-null   int64  \n",
            " 68  EnclosedPorch  1460 non-null   int64  \n",
            " 69  3SsnPorch      1460 non-null   int64  \n",
            " 70  ScreenPorch    1460 non-null   int64  \n",
            " 71  PoolArea       1460 non-null   int64  \n",
            " 72  PoolQC         7 non-null      object \n",
            " 73  Fence          281 non-null    object \n",
            " 74  MiscFeature    54 non-null     object \n",
            " 75  MiscVal        1460 non-null   int64  \n",
            " 76  MoSold         1460 non-null   int64  \n",
            " 77  YrSold         1460 non-null   int64  \n",
            " 78  SaleType       1460 non-null   object \n",
            " 79  SaleCondition  1460 non-null   object \n",
            " 80  SalePrice      1460 non-null   int64  \n",
            "dtypes: float64(3), int64(35), object(43)\n",
            "memory usage: 924.0+ KB\n"
          ]
        }
      ]
    },
    {
      "cell_type": "code",
      "source": [
        "1460*81"
      ],
      "metadata": {
        "colab": {
          "base_uri": "https://localhost:8080/"
        },
        "id": "YmsNRLh73_Go",
        "outputId": "fff71bd2-b9c1-4d6e-a400-e546c83d5ea5"
      },
      "execution_count": null,
      "outputs": [
        {
          "output_type": "execute_result",
          "data": {
            "text/plain": [
              "118260"
            ]
          },
          "metadata": {},
          "execution_count": 27
        }
      ]
    },
    {
      "cell_type": "code",
      "source": [
        "df.size #row와 col을 곱하지 않아고 size 명령으로 조회 가능"
      ],
      "metadata": {
        "colab": {
          "base_uri": "https://localhost:8080/"
        },
        "id": "_uWLRLuF4UK3",
        "outputId": "542208a6-cf37-4e4e-8676-7b4b880d4880"
      },
      "execution_count": null,
      "outputs": [
        {
          "output_type": "execute_result",
          "data": {
            "text/plain": [
              "118260"
            ]
          },
          "metadata": {},
          "execution_count": 29
        }
      ]
    },
    {
      "cell_type": "code",
      "source": [
        "df.shape #몇 곱하기 몇인지 알 수 있음"
      ],
      "metadata": {
        "colab": {
          "base_uri": "https://localhost:8080/"
        },
        "id": "5mDJi0_F4VJx",
        "outputId": "cdc5cca2-b569-42ac-bbc3-309600a27b43"
      },
      "execution_count": null,
      "outputs": [
        {
          "output_type": "execute_result",
          "data": {
            "text/plain": [
              "(1460, 81)"
            ]
          },
          "metadata": {},
          "execution_count": 32
        }
      ]
    },
    {
      "cell_type": "code",
      "source": [
        "#total 변수명을 전체 데이터 갯수로 설정\n",
        "\n",
        "total=df.size"
      ],
      "metadata": {
        "id": "ov3yXE-44kIs"
      },
      "execution_count": null,
      "outputs": []
    },
    {
      "cell_type": "code",
      "source": [
        "# 각 칼럼당 결측치 데이터 갯수\n",
        "\n",
        "missing_col=df.isnull().sum()"
      ],
      "metadata": {
        "id": "wC_7ns-_4q-c"
      },
      "execution_count": null,
      "outputs": []
    },
    {
      "cell_type": "code",
      "source": [
        "#데이터에서 결측치 합계\n",
        "\n",
        "missing_total=missing_col.sum()"
      ],
      "metadata": {
        "id": "Mtnl71Pc4vUR"
      },
      "execution_count": null,
      "outputs": []
    },
    {
      "cell_type": "code",
      "source": [
        "#결측치가 전체 데이터에서 차지하는 비율\n",
        "\n",
        "missing_total/total*100"
      ],
      "metadata": {
        "colab": {
          "base_uri": "https://localhost:8080/"
        },
        "id": "A7HQ1us35Drr",
        "outputId": "b133f6ac-db3a-485d-c9fc-11b56adb3c39"
      },
      "execution_count": null,
      "outputs": [
        {
          "output_type": "execute_result",
          "data": {
            "text/plain": [
              "5.889565364451209"
            ]
          },
          "metadata": {},
          "execution_count": 39
        }
      ]
    },
    {
      "cell_type": "code",
      "source": [
        "missing_total"
      ],
      "metadata": {
        "colab": {
          "base_uri": "https://localhost:8080/"
        },
        "id": "GXdQOUD_5eRk",
        "outputId": "3fda807b-290e-4418-e4f2-774d7334f964"
      },
      "execution_count": null,
      "outputs": [
        {
          "output_type": "execute_result",
          "data": {
            "text/plain": [
              "6965"
            ]
          },
          "metadata": {},
          "execution_count": 40
        }
      ]
    },
    {
      "cell_type": "code",
      "source": [
        "missing_val=df.isnull().sum()\n",
        "\n",
        "missing=missing_val[missing_val>0]"
      ],
      "metadata": {
        "id": "V5hltFGh5mDh"
      },
      "execution_count": null,
      "outputs": []
    },
    {
      "cell_type": "code",
      "source": [
        "missing"
      ],
      "metadata": {
        "colab": {
          "base_uri": "https://localhost:8080/"
        },
        "id": "iO2qMy7a52OD",
        "outputId": "5296d79b-4eb9-4fe0-a2ee-259acc129489"
      },
      "execution_count": null,
      "outputs": [
        {
          "output_type": "execute_result",
          "data": {
            "text/plain": [
              "LotFrontage      259\n",
              "Alley           1369\n",
              "MasVnrType         8\n",
              "MasVnrArea         8\n",
              "BsmtQual          37\n",
              "BsmtCond          37\n",
              "BsmtExposure      38\n",
              "BsmtFinType1      37\n",
              "BsmtFinType2      38\n",
              "Electrical         1\n",
              "FireplaceQu      690\n",
              "GarageType        81\n",
              "GarageYrBlt       81\n",
              "GarageFinish      81\n",
              "GarageQual        81\n",
              "GarageCond        81\n",
              "PoolQC          1453\n",
              "Fence           1179\n",
              "MiscFeature     1406\n",
              "dtype: int64"
            ]
          },
          "metadata": {},
          "execution_count": 44
        }
      ]
    },
    {
      "cell_type": "code",
      "source": [
        "nonmissing=missing_val[missing_val==0] # == : 꼭 2개 써야함"
      ],
      "metadata": {
        "id": "c1gRSbbB58Uo"
      },
      "execution_count": null,
      "outputs": []
    },
    {
      "cell_type": "code",
      "source": [
        "nonmissing"
      ],
      "metadata": {
        "colab": {
          "base_uri": "https://localhost:8080/"
        },
        "id": "PQHgv2lO6CS7",
        "outputId": "b81dfc2d-8457-4397-be5d-ec3bc70e857e"
      },
      "execution_count": null,
      "outputs": [
        {
          "output_type": "execute_result",
          "data": {
            "text/plain": [
              "Id               0\n",
              "MSSubClass       0\n",
              "MSZoning         0\n",
              "LotArea          0\n",
              "Street           0\n",
              "                ..\n",
              "MoSold           0\n",
              "YrSold           0\n",
              "SaleType         0\n",
              "SaleCondition    0\n",
              "SalePrice        0\n",
              "Length: 62, dtype: int64"
            ]
          },
          "metadata": {},
          "execution_count": 50
        }
      ]
    },
    {
      "cell_type": "code",
      "source": [
        "missing.sort_values(inplace=True) #missing값들을 오름차순으로 정렬"
      ],
      "metadata": {
        "id": "QIO75bMz6IkV"
      },
      "execution_count": null,
      "outputs": []
    },
    {
      "cell_type": "code",
      "source": [
        "missing"
      ],
      "metadata": {
        "colab": {
          "base_uri": "https://localhost:8080/"
        },
        "id": "8J4YfaAe6UnS",
        "outputId": "7f289c77-a9aa-4c3f-96fe-a0d711be9e6d"
      },
      "execution_count": null,
      "outputs": [
        {
          "output_type": "execute_result",
          "data": {
            "text/plain": [
              "Electrical         1\n",
              "MasVnrType         8\n",
              "MasVnrArea         8\n",
              "BsmtQual          37\n",
              "BsmtCond          37\n",
              "BsmtFinType1      37\n",
              "BsmtExposure      38\n",
              "BsmtFinType2      38\n",
              "GarageCond        81\n",
              "GarageQual        81\n",
              "GarageFinish      81\n",
              "GarageType        81\n",
              "GarageYrBlt       81\n",
              "LotFrontage      259\n",
              "FireplaceQu      690\n",
              "Fence           1179\n",
              "Alley           1369\n",
              "MiscFeature     1406\n",
              "PoolQC          1453\n",
              "dtype: int64"
            ]
          },
          "metadata": {},
          "execution_count": 52
        }
      ]
    },
    {
      "cell_type": "code",
      "source": [
        "plt.figure(figsize=(10,4))\n",
        "missing.plot.bar()\n",
        "plt.title(\"Missing Values\")\n",
        "plt.xlabel(\"feature names\")\n",
        "plt.ylabel(\"count\")\n",
        "plt.show()"
      ],
      "metadata": {
        "colab": {
          "base_uri": "https://localhost:8080/",
          "height": 496
        },
        "id": "RHBD_Ejk6V0c",
        "outputId": "44e5c36b-4c86-46d9-c20f-5ba86ea0dc03"
      },
      "execution_count": null,
      "outputs": [
        {
          "output_type": "display_data",
          "data": {
            "text/plain": [
              "<Figure size 1000x400 with 1 Axes>"
            ],
            "image/png": "[encoded data removed]"
          },
          "metadata": {}
        }
      ]
    },
    {
      "cell_type": "markdown",
      "source": [
        "# 결측치를 다루는 방법\n",
        "\n",
        "1. 삭제 : 행 또는 열의 missing value 삭제\n",
        "\n",
        "  df.dropna()\n",
        "\n",
        "  - axis=0  : rows 삭제\n",
        "  - axis=1  : columns 삭제"
      ],
      "metadata": {
        "id": "80KKxeiQ7DaS"
      }
    },
    {
      "cell_type": "markdown",
      "source": [
        "- 여기에서 우리는 80% 이상의 결측치를 갖는 변수를 삭제하기로 함"
      ],
      "metadata": {
        "id": "o5otPJ-29ick"
      }
    },
    {
      "cell_type": "code",
      "source": [
        "col_list=[\"Fence\",\"Alley\", \"MiscFeature\", \"PoolQC\"]"
      ],
      "metadata": {
        "id": "kA7L8TDJ9xa8"
      },
      "execution_count": null,
      "outputs": []
    },
    {
      "cell_type": "code",
      "source": [
        "df[col_list].isnull().sum()"
      ],
      "metadata": {
        "colab": {
          "base_uri": "https://localhost:8080/"
        },
        "id": "drNJ1hDi-H2d",
        "outputId": "f33cc176-b0d4-4e70-aacb-4f456b83d49d"
      },
      "execution_count": null,
      "outputs": [
        {
          "output_type": "execute_result",
          "data": {
            "text/plain": [
              "Fence          1179\n",
              "Alley          1369\n",
              "MiscFeature    1406\n",
              "PoolQC         1453\n",
              "dtype: int64"
            ]
          },
          "metadata": {},
          "execution_count": 60
        }
      ]
    },
    {
      "cell_type": "code",
      "source": [
        "df.drop(col_list, axis=1, inplace=True)"
      ],
      "metadata": {
        "id": "MVjTgonH-KwC"
      },
      "execution_count": null,
      "outputs": []
    },
    {
      "cell_type": "code",
      "source": [
        "df.columns #fence, alley~~는 삭제되어서 이제 안나옴"
      ],
      "metadata": {
        "colab": {
          "base_uri": "https://localhost:8080/"
        },
        "id": "RMCvYunv-O2u",
        "outputId": "d73436fd-05af-4920-b67c-f7d44051ddb5"
      },
      "execution_count": null,
      "outputs": [
        {
          "output_type": "execute_result",
          "data": {
            "text/plain": [
              "Index(['Id', 'MSSubClass', 'MSZoning', 'LotFrontage', 'LotArea', 'Street',\n",
              "       'LotShape', 'LandContour', 'Utilities', 'LotConfig', 'LandSlope',\n",
              "       'Neighborhood', 'Condition1', 'Condition2', 'BldgType', 'HouseStyle',\n",
              "       'OverallQual', 'OverallCond', 'YearBuilt', 'YearRemodAdd', 'RoofStyle',\n",
              "       'RoofMatl', 'Exterior1st', 'Exterior2nd', 'MasVnrType', 'MasVnrArea',\n",
              "       'ExterQual', 'ExterCond', 'Foundation', 'BsmtQual', 'BsmtCond',\n",
              "       'BsmtExposure', 'BsmtFinType1', 'BsmtFinSF1', 'BsmtFinType2',\n",
              "       'BsmtFinSF2', 'BsmtUnfSF', 'TotalBsmtSF', 'Heating', 'HeatingQC',\n",
              "       'CentralAir', 'Electrical', '1stFlrSF', '2ndFlrSF', 'LowQualFinSF',\n",
              "       'GrLivArea', 'BsmtFullBath', 'BsmtHalfBath', 'FullBath', 'HalfBath',\n",
              "       'BedroomAbvGr', 'KitchenAbvGr', 'KitchenQual', 'TotRmsAbvGrd',\n",
              "       'Functional', 'Fireplaces', 'FireplaceQu', 'GarageType', 'GarageYrBlt',\n",
              "       'GarageFinish', 'GarageCars', 'GarageArea', 'GarageQual', 'GarageCond',\n",
              "       'PavedDrive', 'WoodDeckSF', 'OpenPorchSF', 'EnclosedPorch', '3SsnPorch',\n",
              "       'ScreenPorch', 'PoolArea', 'MiscVal', 'MoSold', 'YrSold', 'SaleType',\n",
              "       'SaleCondition', 'SalePrice'],\n",
              "      dtype='object')"
            ]
          },
          "metadata": {},
          "execution_count": 63
        }
      ]
    },
    {
      "cell_type": "markdown",
      "source": [
        "# imputing missing values\n",
        "\n",
        "1. replace method\n",
        "  - replace NaNs with zero (0으로 채워넣기)\n",
        "  - replace NaNs with mean/median/mode (각 칼럼별 평균, 중앙값, 최빈수로 채워넣기)\n",
        "  - sklearn simpleimputer() 사용\n",
        "  - knn 사용\n",
        "  - bfill : 이전 행의 값을 사용하는 방법(backward)\n",
        "  - ffill : 이후 행의 값을 사용하는 방법(forward)\n",
        "  - interpolation method : 선을 그려서 값을 추정..?"
      ],
      "metadata": {
        "id": "NSF1r0aO-Rzn"
      }
    },
    {
      "cell_type": "markdown",
      "source": [
        "## 1. Replace method\n",
        "\n",
        "  - NaN을 df.replace() 메소드를 통해서 결측치를 바꾸는 방법\n",
        "  \n",
        "  - 종종 데이터에는 NA, _, ?. @. ! 같은 symbols가 포함되어 있음\n",
        "\n",
        "    - df.replace(\"?\", np.nan) - ?를  nan으로 바꿔줘!"
      ],
      "metadata": {
        "id": "yMqMYVIB_u8f"
      }
    },
    {
      "cell_type": "code",
      "source": [
        "missing"
      ],
      "metadata": {
        "colab": {
          "base_uri": "https://localhost:8080/"
        },
        "id": "U6qDHvirGOAR",
        "outputId": "21af3611-4134-44f7-f7ab-78ac63c2eecd"
      },
      "execution_count": null,
      "outputs": [
        {
          "output_type": "execute_result",
          "data": {
            "text/plain": [
              "Electrical         1\n",
              "MasVnrType         8\n",
              "MasVnrArea         8\n",
              "BsmtQual          37\n",
              "BsmtCond          37\n",
              "BsmtFinType1      37\n",
              "BsmtExposure      38\n",
              "BsmtFinType2      38\n",
              "GarageYrBlt       81\n",
              "GarageType        81\n",
              "GarageQual        81\n",
              "GarageCond        81\n",
              "GarageFinish      81\n",
              "LotFrontage      259\n",
              "FireplaceQu      690\n",
              "Fence           1179\n",
              "Alley           1369\n",
              "MiscFeature     1406\n",
              "PoolQC          1453\n",
              "dtype: int64"
            ]
          },
          "metadata": {},
          "execution_count": 64
        }
      ]
    },
    {
      "cell_type": "code",
      "source": [
        "df[\"LotFrontage\"].unique() # nan만 있음 -> 얜 딱히 바꿀 게 없음"
      ],
      "metadata": {
        "colab": {
          "base_uri": "https://localhost:8080/"
        },
        "id": "D8R-anatGSLQ",
        "outputId": "144a6e1f-4d69-4619-e884-4bcbf0286664"
      },
      "execution_count": null,
      "outputs": [
        {
          "output_type": "execute_result",
          "data": {
            "text/plain": [
              "array([ 65.,  80.,  68.,  60.,  84.,  85.,  75.,  nan,  51.,  50.,  70.,\n",
              "        91.,  72.,  66., 101.,  57.,  44., 110.,  98.,  47., 108., 112.,\n",
              "        74., 115.,  61.,  48.,  33.,  52., 100.,  24.,  89.,  63.,  76.,\n",
              "        81.,  95.,  69.,  21.,  32.,  78., 121., 122.,  40., 105.,  73.,\n",
              "        77.,  64.,  94.,  34.,  90.,  55.,  88.,  82.,  71., 120., 107.,\n",
              "        92., 134.,  62.,  86., 141.,  97.,  54.,  41.,  79., 174.,  99.,\n",
              "        67.,  83.,  43., 103.,  93.,  30., 129., 140.,  35.,  37., 118.,\n",
              "        87., 116., 150., 111.,  49.,  96.,  59.,  36.,  56., 102.,  58.,\n",
              "        38., 109., 130.,  53., 137.,  45., 106., 104.,  42.,  39., 144.,\n",
              "       114., 128., 149., 313., 168., 182., 138., 160., 152., 124., 153.,\n",
              "        46.])"
            ]
          },
          "metadata": {},
          "execution_count": 68
        }
      ]
    },
    {
      "cell_type": "markdown",
      "source": [
        "## 2. 결측치를 0으로 바꾸는 방법\n",
        "\n",
        "  - df.fillna(0) : na를 0으로 채워라~!"
      ],
      "metadata": {
        "id": "_-2cq_4uHXBl"
      }
    },
    {
      "cell_type": "code",
      "source": [
        "df.info()"
      ],
      "metadata": {
        "colab": {
          "base_uri": "https://localhost:8080/"
        },
        "id": "aLQiw-oHHcmQ",
        "outputId": "053fd747-ab99-4fe1-c193-9a2c284a4a3e"
      },
      "execution_count": null,
      "outputs": [
        {
          "output_type": "stream",
          "name": "stdout",
          "text": [
            "<class 'pandas.core.frame.DataFrame'>\n",
            "RangeIndex: 1460 entries, 0 to 1459\n",
            "Data columns (total 77 columns):\n",
            " #   Column         Non-Null Count  Dtype  \n",
            "---  ------         --------------  -----  \n",
            " 0   Id             1460 non-null   int64  \n",
            " 1   MSSubClass     1460 non-null   int64  \n",
            " 2   MSZoning       1460 non-null   object \n",
            " 3   LotFrontage    1201 non-null   float64\n",
            " 4   LotArea        1460 non-null   int64  \n",
            " 5   Street         1460 non-null   object \n",
            " 6   LotShape       1460 non-null   object \n",
            " 7   LandContour    1460 non-null   object \n",
            " 8   Utilities      1460 non-null   object \n",
            " 9   LotConfig      1460 non-null   object \n",
            " 10  LandSlope      1460 non-null   object \n",
            " 11  Neighborhood   1460 non-null   object \n",
            " 12  Condition1     1460 non-null   object \n",
            " 13  Condition2     1460 non-null   object \n",
            " 14  BldgType       1460 non-null   object \n",
            " 15  HouseStyle     1460 non-null   object \n",
            " 16  OverallQual    1460 non-null   int64  \n",
            " 17  OverallCond    1460 non-null   int64  \n",
            " 18  YearBuilt      1460 non-null   int64  \n",
            " 19  YearRemodAdd   1460 non-null   int64  \n",
            " 20  RoofStyle      1460 non-null   object \n",
            " 21  RoofMatl       1460 non-null   object \n",
            " 22  Exterior1st    1460 non-null   object \n",
            " 23  Exterior2nd    1460 non-null   object \n",
            " 24  MasVnrType     1452 non-null   object \n",
            " 25  MasVnrArea     1452 non-null   float64\n",
            " 26  ExterQual      1460 non-null   object \n",
            " 27  ExterCond      1460 non-null   object \n",
            " 28  Foundation     1460 non-null   object \n",
            " 29  BsmtQual       1423 non-null   object \n",
            " 30  BsmtCond       1423 non-null   object \n",
            " 31  BsmtExposure   1422 non-null   object \n",
            " 32  BsmtFinType1   1423 non-null   object \n",
            " 33  BsmtFinSF1     1460 non-null   int64  \n",
            " 34  BsmtFinType2   1422 non-null   object \n",
            " 35  BsmtFinSF2     1460 non-null   int64  \n",
            " 36  BsmtUnfSF      1460 non-null   int64  \n",
            " 37  TotalBsmtSF    1460 non-null   int64  \n",
            " 38  Heating        1460 non-null   object \n",
            " 39  HeatingQC      1460 non-null   object \n",
            " 40  CentralAir     1460 non-null   object \n",
            " 41  Electrical     1459 non-null   object \n",
            " 42  1stFlrSF       1460 non-null   int64  \n",
            " 43  2ndFlrSF       1460 non-null   int64  \n",
            " 44  LowQualFinSF   1460 non-null   int64  \n",
            " 45  GrLivArea      1460 non-null   int64  \n",
            " 46  BsmtFullBath   1460 non-null   int64  \n",
            " 47  BsmtHalfBath   1460 non-null   int64  \n",
            " 48  FullBath       1460 non-null   int64  \n",
            " 49  HalfBath       1460 non-null   int64  \n",
            " 50  BedroomAbvGr   1460 non-null   int64  \n",
            " 51  KitchenAbvGr   1460 non-null   int64  \n",
            " 52  KitchenQual    1460 non-null   object \n",
            " 53  TotRmsAbvGrd   1460 non-null   int64  \n",
            " 54  Functional     1460 non-null   object \n",
            " 55  Fireplaces     1460 non-null   int64  \n",
            " 56  FireplaceQu    770 non-null    object \n",
            " 57  GarageType     1379 non-null   object \n",
            " 58  GarageYrBlt    1379 non-null   float64\n",
            " 59  GarageFinish   1379 non-null   object \n",
            " 60  GarageCars     1460 non-null   int64  \n",
            " 61  GarageArea     1460 non-null   int64  \n",
            " 62  GarageQual     1379 non-null   object \n",
            " 63  GarageCond     1379 non-null   object \n",
            " 64  PavedDrive     1460 non-null   object \n",
            " 65  WoodDeckSF     1460 non-null   int64  \n",
            " 66  OpenPorchSF    1460 non-null   int64  \n",
            " 67  EnclosedPorch  1460 non-null   int64  \n",
            " 68  3SsnPorch      1460 non-null   int64  \n",
            " 69  ScreenPorch    1460 non-null   int64  \n",
            " 70  PoolArea       1460 non-null   int64  \n",
            " 71  MiscVal        1460 non-null   int64  \n",
            " 72  MoSold         1460 non-null   int64  \n",
            " 73  YrSold         1460 non-null   int64  \n",
            " 74  SaleType       1460 non-null   object \n",
            " 75  SaleCondition  1460 non-null   object \n",
            " 76  SalePrice      1460 non-null   int64  \n",
            "dtypes: float64(3), int64(35), object(39)\n",
            "memory usage: 878.4+ KB\n"
          ]
        }
      ]
    },
    {
      "cell_type": "code",
      "source": [
        "df[\"MasVnrArea\"]=df[\"MasVnrArea\"].fillna(0)\n",
        "\n",
        "#df[\"MasVnrArea\"]=df[\"MasVnrArea\"].replace(np.nan, 0) 으로 해도 같은 결과가 나옴"
      ],
      "metadata": {
        "id": "_uEbv8cnHqM_"
      },
      "execution_count": null,
      "outputs": []
    },
    {
      "cell_type": "code",
      "source": [
        "df[\"MasVnrArea\"].isnull().sum() #결측치가 0개"
      ],
      "metadata": {
        "colab": {
          "base_uri": "https://localhost:8080/"
        },
        "id": "5YmrxFVkH0xT",
        "outputId": "a65f7eac-9ba1-4270-aaed-4006065531b7"
      },
      "execution_count": null,
      "outputs": [
        {
          "output_type": "execute_result",
          "data": {
            "text/plain": [
              "0"
            ]
          },
          "metadata": {},
          "execution_count": 75
        }
      ]
    },
    {
      "cell_type": "code",
      "source": [
        "df[[\"MasVnrArea\"]]"
      ],
      "metadata": {
        "colab": {
          "base_uri": "https://localhost:8080/",
          "height": 424
        },
        "id": "Lcke07_EH1nM",
        "outputId": "d5156776-b9dd-4733-f07a-eefce5c9f4da"
      },
      "execution_count": null,
      "outputs": [
        {
          "output_type": "execute_result",
          "data": {
            "text/plain": [
              "      MasVnrArea\n",
              "0          196.0\n",
              "1            0.0\n",
              "2          162.0\n",
              "3            0.0\n",
              "4          350.0\n",
              "...          ...\n",
              "1455         0.0\n",
              "1456       119.0\n",
              "1457         0.0\n",
              "1458         0.0\n",
              "1459         0.0\n",
              "\n",
              "[1460 rows x 1 columns]"
            ],
            "text/html": [
              "\n",
              "  <div id=\"df-768c9f38-8794-4f5e-b214-34cde03abd60\" class=\"colab-df-container\">\n",
              "    <div>\n",
              "<style scoped>\n",
              "    .dataframe tbody tr th:only-of-type {\n",
              "        vertical-align: middle;\n",
              "    }\n",
              "\n",
              "    .dataframe tbody tr th {\n",
              "        vertical-align: top;\n",
              "    }\n",
              "\n",
              "    .dataframe thead th {\n",
              "        text-align: right;\n",
              "    }\n",
              "</style>\n",
              "<table border=\"1\" class=\"dataframe\">\n",
              "  <thead>\n",
              "    <tr style=\"text-align: right;\">\n",
              "      <th></th>\n",
              "      <th>MasVnrArea</th>\n",
              "    </tr>\n",
              "  </thead>\n",
              "  <tbody>\n",
              "    <tr>\n",
              "      <th>0</th>\n",
              "      <td>196.0</td>\n",
              "    </tr>\n",
              "    <tr>\n",
              "      <th>1</th>\n",
              "      <td>0.0</td>\n",
              "    </tr>\n",
              "    <tr>\n",
              "      <th>2</th>\n",
              "      <td>162.0</td>\n",
              "    </tr>\n",
              "    <tr>\n",
              "      <th>3</th>\n",
              "      <td>0.0</td>\n",
              "    </tr>\n",
              "    <tr>\n",
              "      <th>4</th>\n",
              "      <td>350.0</td>\n",
              "    </tr>\n",
              "    <tr>\n",
              "      <th>...</th>\n",
              "      <td>...</td>\n",
              "    </tr>\n",
              "    <tr>\n",
              "      <th>1455</th>\n",
              "      <td>0.0</td>\n",
              "    </tr>\n",
              "    <tr>\n",
              "      <th>1456</th>\n",
              "      <td>119.0</td>\n",
              "    </tr>\n",
              "    <tr>\n",
              "      <th>1457</th>\n",
              "      <td>0.0</td>\n",
              "    </tr>\n",
              "    <tr>\n",
              "      <th>1458</th>\n",
              "      <td>0.0</td>\n",
              "    </tr>\n",
              "    <tr>\n",
              "      <th>1459</th>\n",
              "      <td>0.0</td>\n",
              "    </tr>\n",
              "  </tbody>\n",
              "</table>\n",
              "<p>1460 rows × 1 columns</p>\n",
              "</div>\n",
              "    <div class=\"colab-df-buttons\">\n",
              "\n",
              "  <div class=\"colab-df-container\">\n",
              "    <button class=\"colab-df-convert\" onclick=\"convertToInteractive('df-768c9f38-8794-4f5e-b214-34cde03abd60')\"\n",
              "            title=\"Convert this dataframe to an interactive table.\"\n",
              "            style=\"display:none;\">\n",
              "\n",
              "  <svg xmlns=\"http://www.w3.org/2000/svg\" height=\"24px\" viewBox=\"0 -960 960 960\">\n",
              "    <path d=\"M120-120v-720h720v720H120Zm60-500h600v-160H180v160Zm220 220h160v-160H400v160Zm0 220h160v-160H400v160ZM180-400h160v-160H180v160Zm440 0h160v-160H620v160ZM180-180h160v-160H180v160Zm440 0h160v-160H620v160Z\"/>\n",
              "  </svg>\n",
              "    </button>\n",
              "\n",
              "  <style>\n",
              "    .colab-df-container {\n",
              "      display:flex;\n",
              "      gap: 12px;\n",
              "    }\n",
              "\n",
              "    .colab-df-convert {\n",
              "      background-color: #E8F0FE;\n",
              "      border: none;\n",
              "      border-radius: 50%;\n",
              "      cursor: pointer;\n",
              "      display: none;\n",
              "      fill: #1967D2;\n",
              "      height: 32px;\n",
              "      padding: 0 0 0 0;\n",
              "      width: 32px;\n",
              "    }\n",
              "\n",
              "    .colab-df-convert:hover {\n",
              "      background-color: #E2EBFA;\n",
              "      box-shadow: 0px 1px 2px rgba(60, 64, 67, 0.3), 0px 1px 3px 1px rgba(60, 64, 67, 0.15);\n",
              "      fill: #174EA6;\n",
              "    }\n",
              "\n",
              "    .colab-df-buttons div {\n",
              "      margin-bottom: 4px;\n",
              "    }\n",
              "\n",
              "    [theme=dark] .colab-df-convert {\n",
              "      background-color: #3B4455;\n",
              "      fill: #D2E3FC;\n",
              "    }\n",
              "\n",
              "    [theme=dark] .colab-df-convert:hover {\n",
              "      background-color: #434B5C;\n",
              "      box-shadow: 0px 1px 3px 1px rgba(0, 0, 0, 0.15);\n",
              "      filter: drop-shadow(0px 1px 2px rgba(0, 0, 0, 0.3));\n",
              "      fill: #FFFFFF;\n",
              "    }\n",
              "  </style>\n",
              "\n",
              "    <script>\n",
              "      const buttonEl =\n",
              "        document.querySelector('#df-768c9f38-8794-4f5e-b214-34cde03abd60 button.colab-df-convert');\n",
              "      buttonEl.style.display =\n",
              "        google.colab.kernel.accessAllowed ? 'block' : 'none';\n",
              "\n",
              "      async function convertToInteractive(key) {\n",
              "        const element = document.querySelector('#df-768c9f38-8794-4f5e-b214-34cde03abd60');\n",
              "        const dataTable =\n",
              "          await google.colab.kernel.invokeFunction('convertToInteractive',\n",
              "                                                    [key], {});\n",
              "        if (!dataTable) return;\n",
              "\n",
              "        const docLinkHtml = 'Like what you see? Visit the ' +\n",
              "          '<a target=\"_blank\" href=https://colab.research.google.com/notebooks/data_table.ipynb>data table notebook</a>'\n",
              "          + ' to learn more about interactive tables.';\n",
              "        element.innerHTML = '';\n",
              "        dataTable['output_type'] = 'display_data';\n",
              "        await google.colab.output.renderOutput(dataTable, element);\n",
              "        const docLink = document.createElement('div');\n",
              "        docLink.innerHTML = docLinkHtml;\n",
              "        element.appendChild(docLink);\n",
              "      }\n",
              "    </script>\n",
              "  </div>\n",
              "\n",
              "\n",
              "<div id=\"df-f2995c22-fd92-463b-87b5-1e6a6f56d815\">\n",
              "  <button class=\"colab-df-quickchart\" onclick=\"quickchart('df-f2995c22-fd92-463b-87b5-1e6a6f56d815')\"\n",
              "            title=\"Suggest charts.\"\n",
              "            style=\"display:none;\">\n",
              "\n",
              "<svg xmlns=\"http://www.w3.org/2000/svg\" height=\"24px\"viewBox=\"0 0 24 24\"\n",
              "     width=\"24px\">\n",
              "    <g>\n",
              "        <path d=\"M19 3H5c-1.1 0-2 .9-2 2v14c0 1.1.9 2 2 2h14c1.1 0 2-.9 2-2V5c0-1.1-.9-2-2-2zM9 17H7v-7h2v7zm4 0h-2V7h2v10zm4 0h-2v-4h2v4z\"/>\n",
              "    </g>\n",
              "</svg>\n",
              "  </button>\n",
              "\n",
              "<style>\n",
              "  .colab-df-quickchart {\n",
              "      --bg-color: #E8F0FE;\n",
              "      --fill-color: #1967D2;\n",
              "      --hover-bg-color: #E2EBFA;\n",
              "      --hover-fill-color: #174EA6;\n",
              "      --disabled-fill-color: #AAA;\n",
              "      --disabled-bg-color: #DDD;\n",
              "  }\n",
              "\n",
              "  [theme=dark] .colab-df-quickchart {\n",
              "      --bg-color: #3B4455;\n",
              "      --fill-color: #D2E3FC;\n",
              "      --hover-bg-color: #434B5C;\n",
              "      --hover-fill-color: #FFFFFF;\n",
              "      --disabled-bg-color: #3B4455;\n",
              "      --disabled-fill-color: #666;\n",
              "  }\n",
              "\n",
              "  .colab-df-quickchart {\n",
              "    background-color: var(--bg-color);\n",
              "    border: none;\n",
              "    border-radius: 50%;\n",
              "    cursor: pointer;\n",
              "    display: none;\n",
              "    fill: var(--fill-color);\n",
              "    height: 32px;\n",
              "    padding: 0;\n",
              "    width: 32px;\n",
              "  }\n",
              "\n",
              "  .colab-df-quickchart:hover {\n",
              "    background-color: var(--hover-bg-color);\n",
              "    box-shadow: 0 1px 2px rgba(60, 64, 67, 0.3), 0 1px 3px 1px rgba(60, 64, 67, 0.15);\n",
              "    fill: var(--button-hover-fill-color);\n",
              "  }\n",
              "\n",
              "  .colab-df-quickchart-complete:disabled,\n",
              "  .colab-df-quickchart-complete:disabled:hover {\n",
              "    background-color: var(--disabled-bg-color);\n",
              "    fill: var(--disabled-fill-color);\n",
              "    box-shadow: none;\n",
              "  }\n",
              "\n",
              "  .colab-df-spinner {\n",
              "    border: 2px solid var(--fill-color);\n",
              "    border-color: transparent;\n",
              "    border-bottom-color: var(--fill-color);\n",
              "    animation:\n",
              "      spin 1s steps(1) infinite;\n",
              "  }\n",
              "\n",
              "  @keyframes spin {\n",
              "    0% {\n",
              "      border-color: transparent;\n",
              "      border-bottom-color: var(--fill-color);\n",
              "      border-left-color: var(--fill-color);\n",
              "    }\n",
              "    20% {\n",
              "      border-color: transparent;\n",
              "      border-left-color: var(--fill-color);\n",
              "      border-top-color: var(--fill-color);\n",
              "    }\n",
              "    30% {\n",
              "      border-color: transparent;\n",
              "      border-left-color: var(--fill-color);\n",
              "      border-top-color: var(--fill-color);\n",
              "      border-right-color: var(--fill-color);\n",
              "    }\n",
              "    40% {\n",
              "      border-color: transparent;\n",
              "      border-right-color: var(--fill-color);\n",
              "      border-top-color: var(--fill-color);\n",
              "    }\n",
              "    60% {\n",
              "      border-color: transparent;\n",
              "      border-right-color: var(--fill-color);\n",
              "    }\n",
              "    80% {\n",
              "      border-color: transparent;\n",
              "      border-right-color: var(--fill-color);\n",
              "      border-bottom-color: var(--fill-color);\n",
              "    }\n",
              "    90% {\n",
              "      border-color: transparent;\n",
              "      border-bottom-color: var(--fill-color);\n",
              "    }\n",
              "  }\n",
              "</style>\n",
              "\n",
              "  <script>\n",
              "    async function quickchart(key) {\n",
              "      const quickchartButtonEl =\n",
              "        document.querySelector('#' + key + ' button');\n",
              "      quickchartButtonEl.disabled = true;  // To prevent multiple clicks.\n",
              "      quickchartButtonEl.classList.add('colab-df-spinner');\n",
              "      try {\n",
              "        const charts = await google.colab.kernel.invokeFunction(\n",
              "            'suggestCharts', [key], {});\n",
              "      } catch (error) {\n",
              "        console.error('Error during call to suggestCharts:', error);\n",
              "      }\n",
              "      quickchartButtonEl.classList.remove('colab-df-spinner');\n",
              "      quickchartButtonEl.classList.add('colab-df-quickchart-complete');\n",
              "    }\n",
              "    (() => {\n",
              "      let quickchartButtonEl =\n",
              "        document.querySelector('#df-f2995c22-fd92-463b-87b5-1e6a6f56d815 button');\n",
              "      quickchartButtonEl.style.display =\n",
              "        google.colab.kernel.accessAllowed ? 'block' : 'none';\n",
              "    })();\n",
              "  </script>\n",
              "</div>\n",
              "    </div>\n",
              "  </div>\n"
            ]
          },
          "metadata": {},
          "execution_count": 76
        }
      ]
    },
    {
      "cell_type": "markdown",
      "source": [
        "## 3. NaN을 mean/median으로 바꾸기\n",
        "\n",
        "- 수치형 데이터로 이루어진 변수(칼럼)의 경우에, 결측치를 mean/median으로 채워넣을 수 있음\n",
        "\n",
        "  - pd.to_numeric() 메소드 사용\n",
        "\n",
        "- 아웃라이어가 많으면 왜곡때문에 median을 사용하고, 별로 없다면 mean을 사용해도 무관"
      ],
      "metadata": {
        "id": "9ewLjxegICyM"
      }
    },
    {
      "cell_type": "code",
      "source": [
        "12.1+16+9+16.9+10.2"
      ],
      "metadata": {
        "colab": {
          "base_uri": "https://localhost:8080/"
        },
        "id": "sFrKRqxKIhvA",
        "outputId": "4d1267a5-70a2-49e5-fb2b-2601ab641404"
      },
      "execution_count": null,
      "outputs": [
        {
          "output_type": "execute_result",
          "data": {
            "text/plain": [
              "64.2"
            ]
          },
          "metadata": {},
          "execution_count": 78
        }
      ]
    },
    {
      "cell_type": "code",
      "source": [
        "64.2/5 #mean // median은 12.1"
      ],
      "metadata": {
        "colab": {
          "base_uri": "https://localhost:8080/"
        },
        "id": "gIoS1WvEI7dJ",
        "outputId": "9190116e-8cc6-41c2-da93-0968eb0285e5"
      },
      "execution_count": null,
      "outputs": [
        {
          "output_type": "execute_result",
          "data": {
            "text/plain": [
              "12.84"
            ]
          },
          "metadata": {},
          "execution_count": 81
        }
      ]
    },
    {
      "cell_type": "code",
      "source": [
        "df[\"LotFrontage\"]"
      ],
      "metadata": {
        "colab": {
          "base_uri": "https://localhost:8080/"
        },
        "id": "WvFRgVDnI93h",
        "outputId": "4d525067-d36a-499e-a951-59c74d1385bf"
      },
      "execution_count": null,
      "outputs": [
        {
          "output_type": "execute_result",
          "data": {
            "text/plain": [
              "0       65.0\n",
              "1       80.0\n",
              "2       68.0\n",
              "3       60.0\n",
              "4       84.0\n",
              "        ... \n",
              "1455    62.0\n",
              "1456    85.0\n",
              "1457    66.0\n",
              "1458    68.0\n",
              "1459    75.0\n",
              "Name: LotFrontage, Length: 1460, dtype: float64"
            ]
          },
          "metadata": {},
          "execution_count": 84
        }
      ]
    },
    {
      "cell_type": "code",
      "source": [
        "df[\"LotFrontage\"].unique()"
      ],
      "metadata": {
        "colab": {
          "base_uri": "https://localhost:8080/"
        },
        "id": "l0KblkKPJeOS",
        "outputId": "f786e0c5-5e5e-4606-9d51-968ebbc4467d"
      },
      "execution_count": null,
      "outputs": [
        {
          "output_type": "execute_result",
          "data": {
            "text/plain": [
              "array([ 65.,  80.,  68.,  60.,  84.,  85.,  75.,  nan,  51.,  50.,  70.,\n",
              "        91.,  72.,  66., 101.,  57.,  44., 110.,  98.,  47., 108., 112.,\n",
              "        74., 115.,  61.,  48.,  33.,  52., 100.,  24.,  89.,  63.,  76.,\n",
              "        81.,  95.,  69.,  21.,  32.,  78., 121., 122.,  40., 105.,  73.,\n",
              "        77.,  64.,  94.,  34.,  90.,  55.,  88.,  82.,  71., 120., 107.,\n",
              "        92., 134.,  62.,  86., 141.,  97.,  54.,  41.,  79., 174.,  99.,\n",
              "        67.,  83.,  43., 103.,  93.,  30., 129., 140.,  35.,  37., 118.,\n",
              "        87., 116., 150., 111.,  49.,  96.,  59.,  36.,  56., 102.,  58.,\n",
              "        38., 109., 130.,  53., 137.,  45., 106., 104.,  42.,  39., 144.,\n",
              "       114., 128., 149., 313., 168., 182., 138., 160., 152., 124., 153.,\n",
              "        46.])"
            ]
          },
          "metadata": {},
          "execution_count": 85
        }
      ]
    },
    {
      "cell_type": "code",
      "source": [
        "df=pd.read_csv(\"housing_dataset.csv\")"
      ],
      "metadata": {
        "id": "2c5oDWoGKU2W"
      },
      "execution_count": null,
      "outputs": []
    },
    {
      "cell_type": "code",
      "source": [
        "df[\"LotFrontage\"]=df[\"LotFrontage\"].fillna(df[\"LotFrontage\"].mean())"
      ],
      "metadata": {
        "id": "G-bQAmg0J6oB"
      },
      "execution_count": null,
      "outputs": []
    },
    {
      "cell_type": "markdown",
      "source": [
        "- 다만 이상치가 많은 경우에 결측치를 mean대신 median 선택하는 것이 나음"
      ],
      "metadata": {
        "id": "DHXLQblYKD6V"
      }
    },
    {
      "cell_type": "code",
      "source": [
        "df[\"LotFrontage\"]"
      ],
      "metadata": {
        "colab": {
          "base_uri": "https://localhost:8080/"
        },
        "id": "UF5g9nPSKiPO",
        "outputId": "4f45bc46-5209-410f-ec38-dbd90ff74249"
      },
      "execution_count": null,
      "outputs": [
        {
          "output_type": "execute_result",
          "data": {
            "text/plain": [
              "0       65.0\n",
              "1       80.0\n",
              "2       68.0\n",
              "3       60.0\n",
              "4       84.0\n",
              "        ... \n",
              "1455    62.0\n",
              "1456    85.0\n",
              "1457    66.0\n",
              "1458    68.0\n",
              "1459    75.0\n",
              "Name: LotFrontage, Length: 1460, dtype: float64"
            ]
          },
          "metadata": {},
          "execution_count": 100
        }
      ]
    },
    {
      "cell_type": "markdown",
      "source": [
        "## 4. 결측치를 mode로 채우기\n",
        "\n",
        "\n"
      ],
      "metadata": {
        "id": "C8YEN3yRLu_V"
      }
    },
    {
      "cell_type": "code",
      "source": [
        "df[\"GarageType\"].unique()"
      ],
      "metadata": {
        "colab": {
          "base_uri": "https://localhost:8080/"
        },
        "id": "8lif4-xYLgbV",
        "outputId": "8122316c-f782-4f36-bfde-7fb9e66ef99c"
      },
      "execution_count": null,
      "outputs": [
        {
          "output_type": "execute_result",
          "data": {
            "text/plain": [
              "array(['Attchd', 'Detchd', 'BuiltIn', 'CarPort', nan, 'Basment', '2Types'],\n",
              "      dtype=object)"
            ]
          },
          "metadata": {},
          "execution_count": 101
        }
      ]
    },
    {
      "cell_type": "code",
      "source": [
        "df[\"GarageType\"].value_counts() #값별로 개수 세기"
      ],
      "metadata": {
        "colab": {
          "base_uri": "https://localhost:8080/"
        },
        "id": "6caL574OLmDU",
        "outputId": "01ba5a47-e3e0-40d6-ce06-66f074005c64"
      },
      "execution_count": null,
      "outputs": [
        {
          "output_type": "execute_result",
          "data": {
            "text/plain": [
              "Attchd     870\n",
              "Detchd     387\n",
              "BuiltIn     88\n",
              "Basment     19\n",
              "CarPort      9\n",
              "2Types       6\n",
              "Name: GarageType, dtype: int64"
            ]
          },
          "metadata": {},
          "execution_count": 103
        }
      ]
    },
    {
      "cell_type": "code",
      "source": [
        "df=pd.read_csv(\"housing_dataset.csv\")\n",
        "df[\"GarageType\"]=df[\"GarageType\"].fillna(df[\"GarageType\"].mode()[0])"
      ],
      "metadata": {
        "id": "hvzh5qZ6MU6_"
      },
      "execution_count": null,
      "outputs": []
    },
    {
      "cell_type": "code",
      "source": [
        "df[\"GarageType\"].unique() #nan이 사라짐!"
      ],
      "metadata": {
        "colab": {
          "base_uri": "https://localhost:8080/"
        },
        "id": "3S62WccZMtCg",
        "outputId": "14907772-6e0d-4ff8-dfa1-6c0246a25b02"
      },
      "execution_count": null,
      "outputs": [
        {
          "output_type": "execute_result",
          "data": {
            "text/plain": [
              "array(['Attchd', 'Detchd', 'BuiltIn', 'CarPort', 'Basment', '2Types'],\n",
              "      dtype=object)"
            ]
          },
          "metadata": {},
          "execution_count": 106
        }
      ]
    },
    {
      "cell_type": "code",
      "source": [
        "df[\"GarageType\"].value_counts()"
      ],
      "metadata": {
        "colab": {
          "base_uri": "https://localhost:8080/"
        },
        "id": "l8x5LN0vNkCb",
        "outputId": "34dbd976-a856-4697-9cfe-595ee2e5e472"
      },
      "execution_count": null,
      "outputs": [
        {
          "output_type": "execute_result",
          "data": {
            "text/plain": [
              "Attchd     951\n",
              "Detchd     387\n",
              "BuiltIn     88\n",
              "Basment     19\n",
              "CarPort      9\n",
              "2Types       6\n",
              "Name: GarageType, dtype: int64"
            ]
          },
          "metadata": {},
          "execution_count": 108
        }
      ]
    },
    {
      "cell_type": "markdown",
      "source": [
        "## 5. simple Imputer\n",
        "\n"
      ],
      "metadata": {
        "id": "kDg1NG83Nt46"
      }
    },
    {
      "cell_type": "code",
      "source": [
        "df=pd.read_csv(\"housing_dataset.csv\")\n",
        "df1=df[[\"MasVnrArea\"]].copy() #혹시모르니까 따로 복사"
      ],
      "metadata": {
        "id": "9yoahwLPODW0"
      },
      "execution_count": null,
      "outputs": []
    },
    {
      "cell_type": "code",
      "source": [
        "df1.head()"
      ],
      "metadata": {
        "colab": {
          "base_uri": "https://localhost:8080/",
          "height": 206
        },
        "id": "jCrXHSRHOPDG",
        "outputId": "e77f1de8-b9ba-4d4f-aaf7-6683fb01ef76"
      },
      "execution_count": null,
      "outputs": [
        {
          "output_type": "execute_result",
          "data": {
            "text/plain": [
              "   MasVnrArea\n",
              "0       196.0\n",
              "1         0.0\n",
              "2       162.0\n",
              "3         0.0\n",
              "4       350.0"
            ],
            "text/html": [
              "\n",
              "  <div id=\"df-12824b29-87e9-4487-92fa-1a5c96ea206d\" class=\"colab-df-container\">\n",
              "    <div>\n",
              "<style scoped>\n",
              "    .dataframe tbody tr th:only-of-type {\n",
              "        vertical-align: middle;\n",
              "    }\n",
              "\n",
              "    .dataframe tbody tr th {\n",
              "        vertical-align: top;\n",
              "    }\n",
              "\n",
              "    .dataframe thead th {\n",
              "        text-align: right;\n",
              "    }\n",
              "</style>\n",
              "<table border=\"1\" class=\"dataframe\">\n",
              "  <thead>\n",
              "    <tr style=\"text-align: right;\">\n",
              "      <th></th>\n",
              "      <th>MasVnrArea</th>\n",
              "    </tr>\n",
              "  </thead>\n",
              "  <tbody>\n",
              "    <tr>\n",
              "      <th>0</th>\n",
              "      <td>196.0</td>\n",
              "    </tr>\n",
              "    <tr>\n",
              "      <th>1</th>\n",
              "      <td>0.0</td>\n",
              "    </tr>\n",
              "    <tr>\n",
              "      <th>2</th>\n",
              "      <td>162.0</td>\n",
              "    </tr>\n",
              "    <tr>\n",
              "      <th>3</th>\n",
              "      <td>0.0</td>\n",
              "    </tr>\n",
              "    <tr>\n",
              "      <th>4</th>\n",
              "      <td>350.0</td>\n",
              "    </tr>\n",
              "  </tbody>\n",
              "</table>\n",
              "</div>\n",
              "    <div class=\"colab-df-buttons\">\n",
              "\n",
              "  <div class=\"colab-df-container\">\n",
              "    <button class=\"colab-df-convert\" onclick=\"convertToInteractive('df-12824b29-87e9-4487-92fa-1a5c96ea206d')\"\n",
              "            title=\"Convert this dataframe to an interactive table.\"\n",
              "            style=\"display:none;\">\n",
              "\n",
              "  <svg xmlns=\"http://www.w3.org/2000/svg\" height=\"24px\" viewBox=\"0 -960 960 960\">\n",
              "    <path d=\"M120-120v-720h720v720H120Zm60-500h600v-160H180v160Zm220 220h160v-160H400v160Zm0 220h160v-160H400v160ZM180-400h160v-160H180v160Zm440 0h160v-160H620v160ZM180-180h160v-160H180v160Zm440 0h160v-160H620v160Z\"/>\n",
              "  </svg>\n",
              "    </button>\n",
              "\n",
              "  <style>\n",
              "    .colab-df-container {\n",
              "      display:flex;\n",
              "      gap: 12px;\n",
              "    }\n",
              "\n",
              "    .colab-df-convert {\n",
              "      background-color: #E8F0FE;\n",
              "      border: none;\n",
              "      border-radius: 50%;\n",
              "      cursor: pointer;\n",
              "      display: none;\n",
              "      fill: #1967D2;\n",
              "      height: 32px;\n",
              "      padding: 0 0 0 0;\n",
              "      width: 32px;\n",
              "    }\n",
              "\n",
              "    .colab-df-convert:hover {\n",
              "      background-color: #E2EBFA;\n",
              "      box-shadow: 0px 1px 2px rgba(60, 64, 67, 0.3), 0px 1px 3px 1px rgba(60, 64, 67, 0.15);\n",
              "      fill: #174EA6;\n",
              "    }\n",
              "\n",
              "    .colab-df-buttons div {\n",
              "      margin-bottom: 4px;\n",
              "    }\n",
              "\n",
              "    [theme=dark] .colab-df-convert {\n",
              "      background-color: #3B4455;\n",
              "      fill: #D2E3FC;\n",
              "    }\n",
              "\n",
              "    [theme=dark] .colab-df-convert:hover {\n",
              "      background-color: #434B5C;\n",
              "      box-shadow: 0px 1px 3px 1px rgba(0, 0, 0, 0.15);\n",
              "      filter: drop-shadow(0px 1px 2px rgba(0, 0, 0, 0.3));\n",
              "      fill: #FFFFFF;\n",
              "    }\n",
              "  </style>\n",
              "\n",
              "    <script>\n",
              "      const buttonEl =\n",
              "        document.querySelector('#df-12824b29-87e9-4487-92fa-1a5c96ea206d button.colab-df-convert');\n",
              "      buttonEl.style.display =\n",
              "        google.colab.kernel.accessAllowed ? 'block' : 'none';\n",
              "\n",
              "      async function convertToInteractive(key) {\n",
              "        const element = document.querySelector('#df-12824b29-87e9-4487-92fa-1a5c96ea206d');\n",
              "        const dataTable =\n",
              "          await google.colab.kernel.invokeFunction('convertToInteractive',\n",
              "                                                    [key], {});\n",
              "        if (!dataTable) return;\n",
              "\n",
              "        const docLinkHtml = 'Like what you see? Visit the ' +\n",
              "          '<a target=\"_blank\" href=https://colab.research.google.com/notebooks/data_table.ipynb>data table notebook</a>'\n",
              "          + ' to learn more about interactive tables.';\n",
              "        element.innerHTML = '';\n",
              "        dataTable['output_type'] = 'display_data';\n",
              "        await google.colab.output.renderOutput(dataTable, element);\n",
              "        const docLink = document.createElement('div');\n",
              "        docLink.innerHTML = docLinkHtml;\n",
              "        element.appendChild(docLink);\n",
              "      }\n",
              "    </script>\n",
              "  </div>\n",
              "\n",
              "\n",
              "<div id=\"df-8d1c0e52-cc43-4c4f-bbd3-5d57465065dc\">\n",
              "  <button class=\"colab-df-quickchart\" onclick=\"quickchart('df-8d1c0e52-cc43-4c4f-bbd3-5d57465065dc')\"\n",
              "            title=\"Suggest charts.\"\n",
              "            style=\"display:none;\">\n",
              "\n",
              "<svg xmlns=\"http://www.w3.org/2000/svg\" height=\"24px\"viewBox=\"0 0 24 24\"\n",
              "     width=\"24px\">\n",
              "    <g>\n",
              "        <path d=\"M19 3H5c-1.1 0-2 .9-2 2v14c0 1.1.9 2 2 2h14c1.1 0 2-.9 2-2V5c0-1.1-.9-2-2-2zM9 17H7v-7h2v7zm4 0h-2V7h2v10zm4 0h-2v-4h2v4z\"/>\n",
              "    </g>\n",
              "</svg>\n",
              "  </button>\n",
              "\n",
              "<style>\n",
              "  .colab-df-quickchart {\n",
              "      --bg-color: #E8F0FE;\n",
              "      --fill-color: #1967D2;\n",
              "      --hover-bg-color: #E2EBFA;\n",
              "      --hover-fill-color: #174EA6;\n",
              "      --disabled-fill-color: #AAA;\n",
              "      --disabled-bg-color: #DDD;\n",
              "  }\n",
              "\n",
              "  [theme=dark] .colab-df-quickchart {\n",
              "      --bg-color: #3B4455;\n",
              "      --fill-color: #D2E3FC;\n",
              "      --hover-bg-color: #434B5C;\n",
              "      --hover-fill-color: #FFFFFF;\n",
              "      --disabled-bg-color: #3B4455;\n",
              "      --disabled-fill-color: #666;\n",
              "  }\n",
              "\n",
              "  .colab-df-quickchart {\n",
              "    background-color: var(--bg-color);\n",
              "    border: none;\n",
              "    border-radius: 50%;\n",
              "    cursor: pointer;\n",
              "    display: none;\n",
              "    fill: var(--fill-color);\n",
              "    height: 32px;\n",
              "    padding: 0;\n",
              "    width: 32px;\n",
              "  }\n",
              "\n",
              "  .colab-df-quickchart:hover {\n",
              "    background-color: var(--hover-bg-color);\n",
              "    box-shadow: 0 1px 2px rgba(60, 64, 67, 0.3), 0 1px 3px 1px rgba(60, 64, 67, 0.15);\n",
              "    fill: var(--button-hover-fill-color);\n",
              "  }\n",
              "\n",
              "  .colab-df-quickchart-complete:disabled,\n",
              "  .colab-df-quickchart-complete:disabled:hover {\n",
              "    background-color: var(--disabled-bg-color);\n",
              "    fill: var(--disabled-fill-color);\n",
              "    box-shadow: none;\n",
              "  }\n",
              "\n",
              "  .colab-df-spinner {\n",
              "    border: 2px solid var(--fill-color);\n",
              "    border-color: transparent;\n",
              "    border-bottom-color: var(--fill-color);\n",
              "    animation:\n",
              "      spin 1s steps(1) infinite;\n",
              "  }\n",
              "\n",
              "  @keyframes spin {\n",
              "    0% {\n",
              "      border-color: transparent;\n",
              "      border-bottom-color: var(--fill-color);\n",
              "      border-left-color: var(--fill-color);\n",
              "    }\n",
              "    20% {\n",
              "      border-color: transparent;\n",
              "      border-left-color: var(--fill-color);\n",
              "      border-top-color: var(--fill-color);\n",
              "    }\n",
              "    30% {\n",
              "      border-color: transparent;\n",
              "      border-left-color: var(--fill-color);\n",
              "      border-top-color: var(--fill-color);\n",
              "      border-right-color: var(--fill-color);\n",
              "    }\n",
              "    40% {\n",
              "      border-color: transparent;\n",
              "      border-right-color: var(--fill-color);\n",
              "      border-top-color: var(--fill-color);\n",
              "    }\n",
              "    60% {\n",
              "      border-color: transparent;\n",
              "      border-right-color: var(--fill-color);\n",
              "    }\n",
              "    80% {\n",
              "      border-color: transparent;\n",
              "      border-right-color: var(--fill-color);\n",
              "      border-bottom-color: var(--fill-color);\n",
              "    }\n",
              "    90% {\n",
              "      border-color: transparent;\n",
              "      border-bottom-color: var(--fill-color);\n",
              "    }\n",
              "  }\n",
              "</style>\n",
              "\n",
              "  <script>\n",
              "    async function quickchart(key) {\n",
              "      const quickchartButtonEl =\n",
              "        document.querySelector('#' + key + ' button');\n",
              "      quickchartButtonEl.disabled = true;  // To prevent multiple clicks.\n",
              "      quickchartButtonEl.classList.add('colab-df-spinner');\n",
              "      try {\n",
              "        const charts = await google.colab.kernel.invokeFunction(\n",
              "            'suggestCharts', [key], {});\n",
              "      } catch (error) {\n",
              "        console.error('Error during call to suggestCharts:', error);\n",
              "      }\n",
              "      quickchartButtonEl.classList.remove('colab-df-spinner');\n",
              "      quickchartButtonEl.classList.add('colab-df-quickchart-complete');\n",
              "    }\n",
              "    (() => {\n",
              "      let quickchartButtonEl =\n",
              "        document.querySelector('#df-8d1c0e52-cc43-4c4f-bbd3-5d57465065dc button');\n",
              "      quickchartButtonEl.style.display =\n",
              "        google.colab.kernel.accessAllowed ? 'block' : 'none';\n",
              "    })();\n",
              "  </script>\n",
              "</div>\n",
              "    </div>\n",
              "  </div>\n"
            ]
          },
          "metadata": {},
          "execution_count": 112
        }
      ]
    },
    {
      "cell_type": "code",
      "source": [
        "df1.isnull().sum()"
      ],
      "metadata": {
        "colab": {
          "base_uri": "https://localhost:8080/"
        },
        "id": "rb-7_n1AORit",
        "outputId": "0204c529-91ee-46fd-e5da-8858e9b95b74"
      },
      "execution_count": null,
      "outputs": [
        {
          "output_type": "execute_result",
          "data": {
            "text/plain": [
              "MasVnrArea    8\n",
              "dtype: int64"
            ]
          },
          "metadata": {},
          "execution_count": 113
        }
      ]
    },
    {
      "cell_type": "code",
      "source": [
        "from sklearn.impute import SimpleImputer"
      ],
      "metadata": {
        "id": "D_-IIcwlOWfh"
      },
      "execution_count": null,
      "outputs": []
    },
    {
      "cell_type": "code",
      "source": [
        "df1[\"MasVnrArea\"]=df1[\"MasVnrArea\"].isnull()"
      ],
      "metadata": {
        "id": "E8mvN4V0OdUr"
      },
      "execution_count": null,
      "outputs": []
    },
    {
      "cell_type": "code",
      "source": [
        "df1[\"MasVnrArea\"].isnull()\n",
        "imputer=SimpleImputer(strategy=\"mean\") #머신러닝 사용한 것..\n",
        "impute_data=imputer.fit_transform(df1)\n",
        "df1.info()"
      ],
      "metadata": {
        "colab": {
          "base_uri": "https://localhost:8080/"
        },
        "id": "EW4mvtKUOmrL",
        "outputId": "9f84dd85-bfb5-445a-ffef-191ca34fb418"
      },
      "execution_count": null,
      "outputs": [
        {
          "output_type": "stream",
          "name": "stdout",
          "text": [
            "<class 'pandas.core.frame.DataFrame'>\n",
            "RangeIndex: 1460 entries, 0 to 1459\n",
            "Data columns (total 1 columns):\n",
            " #   Column      Non-Null Count  Dtype\n",
            "---  ------      --------------  -----\n",
            " 0   MasVnrArea  1460 non-null   bool \n",
            "dtypes: bool(1)\n",
            "memory usage: 1.6 KB\n"
          ]
        }
      ]
    },
    {
      "cell_type": "code",
      "source": [
        "df1"
      ],
      "metadata": {
        "colab": {
          "base_uri": "https://localhost:8080/",
          "height": 424
        },
        "id": "icCSUoP-Op3A",
        "outputId": "d86a200b-a42e-4e84-d7c9-ccc34f1fe669"
      },
      "execution_count": null,
      "outputs": [
        {
          "output_type": "execute_result",
          "data": {
            "text/plain": [
              "      MasVnrArea\n",
              "0          False\n",
              "1          False\n",
              "2          False\n",
              "3          False\n",
              "4          False\n",
              "...          ...\n",
              "1455       False\n",
              "1456       False\n",
              "1457       False\n",
              "1458       False\n",
              "1459       False\n",
              "\n",
              "[1460 rows x 1 columns]"
            ],
            "text/html": [
              "\n",
              "  <div id=\"df-9650617c-8763-4581-b766-0026ee33297f\" class=\"colab-df-container\">\n",
              "    <div>\n",
              "<style scoped>\n",
              "    .dataframe tbody tr th:only-of-type {\n",
              "        vertical-align: middle;\n",
              "    }\n",
              "\n",
              "    .dataframe tbody tr th {\n",
              "        vertical-align: top;\n",
              "    }\n",
              "\n",
              "    .dataframe thead th {\n",
              "        text-align: right;\n",
              "    }\n",
              "</style>\n",
              "<table border=\"1\" class=\"dataframe\">\n",
              "  <thead>\n",
              "    <tr style=\"text-align: right;\">\n",
              "      <th></th>\n",
              "      <th>MasVnrArea</th>\n",
              "    </tr>\n",
              "  </thead>\n",
              "  <tbody>\n",
              "    <tr>\n",
              "      <th>0</th>\n",
              "      <td>False</td>\n",
              "    </tr>\n",
              "    <tr>\n",
              "      <th>1</th>\n",
              "      <td>False</td>\n",
              "    </tr>\n",
              "    <tr>\n",
              "      <th>2</th>\n",
              "      <td>False</td>\n",
              "    </tr>\n",
              "    <tr>\n",
              "      <th>3</th>\n",
              "      <td>False</td>\n",
              "    </tr>\n",
              "    <tr>\n",
              "      <th>4</th>\n",
              "      <td>False</td>\n",
              "    </tr>\n",
              "    <tr>\n",
              "      <th>...</th>\n",
              "      <td>...</td>\n",
              "    </tr>\n",
              "    <tr>\n",
              "      <th>1455</th>\n",
              "      <td>False</td>\n",
              "    </tr>\n",
              "    <tr>\n",
              "      <th>1456</th>\n",
              "      <td>False</td>\n",
              "    </tr>\n",
              "    <tr>\n",
              "      <th>1457</th>\n",
              "      <td>False</td>\n",
              "    </tr>\n",
              "    <tr>\n",
              "      <th>1458</th>\n",
              "      <td>False</td>\n",
              "    </tr>\n",
              "    <tr>\n",
              "      <th>1459</th>\n",
              "      <td>False</td>\n",
              "    </tr>\n",
              "  </tbody>\n",
              "</table>\n",
              "<p>1460 rows × 1 columns</p>\n",
              "</div>\n",
              "    <div class=\"colab-df-buttons\">\n",
              "\n",
              "  <div class=\"colab-df-container\">\n",
              "    <button class=\"colab-df-convert\" onclick=\"convertToInteractive('df-9650617c-8763-4581-b766-0026ee33297f')\"\n",
              "            title=\"Convert this dataframe to an interactive table.\"\n",
              "            style=\"display:none;\">\n",
              "\n",
              "  <svg xmlns=\"http://www.w3.org/2000/svg\" height=\"24px\" viewBox=\"0 -960 960 960\">\n",
              "    <path d=\"M120-120v-720h720v720H120Zm60-500h600v-160H180v160Zm220 220h160v-160H400v160Zm0 220h160v-160H400v160ZM180-400h160v-160H180v160Zm440 0h160v-160H620v160ZM180-180h160v-160H180v160Zm440 0h160v-160H620v160Z\"/>\n",
              "  </svg>\n",
              "    </button>\n",
              "\n",
              "  <style>\n",
              "    .colab-df-container {\n",
              "      display:flex;\n",
              "      gap: 12px;\n",
              "    }\n",
              "\n",
              "    .colab-df-convert {\n",
              "      background-color: #E8F0FE;\n",
              "      border: none;\n",
              "      border-radius: 50%;\n",
              "      cursor: pointer;\n",
              "      display: none;\n",
              "      fill: #1967D2;\n",
              "      height: 32px;\n",
              "      padding: 0 0 0 0;\n",
              "      width: 32px;\n",
              "    }\n",
              "\n",
              "    .colab-df-convert:hover {\n",
              "      background-color: #E2EBFA;\n",
              "      box-shadow: 0px 1px 2px rgba(60, 64, 67, 0.3), 0px 1px 3px 1px rgba(60, 64, 67, 0.15);\n",
              "      fill: #174EA6;\n",
              "    }\n",
              "\n",
              "    .colab-df-buttons div {\n",
              "      margin-bottom: 4px;\n",
              "    }\n",
              "\n",
              "    [theme=dark] .colab-df-convert {\n",
              "      background-color: #3B4455;\n",
              "      fill: #D2E3FC;\n",
              "    }\n",
              "\n",
              "    [theme=dark] .colab-df-convert:hover {\n",
              "      background-color: #434B5C;\n",
              "      box-shadow: 0px 1px 3px 1px rgba(0, 0, 0, 0.15);\n",
              "      filter: drop-shadow(0px 1px 2px rgba(0, 0, 0, 0.3));\n",
              "      fill: #FFFFFF;\n",
              "    }\n",
              "  </style>\n",
              "\n",
              "    <script>\n",
              "      const buttonEl =\n",
              "        document.querySelector('#df-9650617c-8763-4581-b766-0026ee33297f button.colab-df-convert');\n",
              "      buttonEl.style.display =\n",
              "        google.colab.kernel.accessAllowed ? 'block' : 'none';\n",
              "\n",
              "      async function convertToInteractive(key) {\n",
              "        const element = document.querySelector('#df-9650617c-8763-4581-b766-0026ee33297f');\n",
              "        const dataTable =\n",
              "          await google.colab.kernel.invokeFunction('convertToInteractive',\n",
              "                                                    [key], {});\n",
              "        if (!dataTable) return;\n",
              "\n",
              "        const docLinkHtml = 'Like what you see? Visit the ' +\n",
              "          '<a target=\"_blank\" href=https://colab.research.google.com/notebooks/data_table.ipynb>data table notebook</a>'\n",
              "          + ' to learn more about interactive tables.';\n",
              "        element.innerHTML = '';\n",
              "        dataTable['output_type'] = 'display_data';\n",
              "        await google.colab.output.renderOutput(dataTable, element);\n",
              "        const docLink = document.createElement('div');\n",
              "        docLink.innerHTML = docLinkHtml;\n",
              "        element.appendChild(docLink);\n",
              "      }\n",
              "    </script>\n",
              "  </div>\n",
              "\n",
              "\n",
              "<div id=\"df-4a8b299d-3a49-42c5-ad0c-48836e85a557\">\n",
              "  <button class=\"colab-df-quickchart\" onclick=\"quickchart('df-4a8b299d-3a49-42c5-ad0c-48836e85a557')\"\n",
              "            title=\"Suggest charts.\"\n",
              "            style=\"display:none;\">\n",
              "\n",
              "<svg xmlns=\"http://www.w3.org/2000/svg\" height=\"24px\"viewBox=\"0 0 24 24\"\n",
              "     width=\"24px\">\n",
              "    <g>\n",
              "        <path d=\"M19 3H5c-1.1 0-2 .9-2 2v14c0 1.1.9 2 2 2h14c1.1 0 2-.9 2-2V5c0-1.1-.9-2-2-2zM9 17H7v-7h2v7zm4 0h-2V7h2v10zm4 0h-2v-4h2v4z\"/>\n",
              "    </g>\n",
              "</svg>\n",
              "  </button>\n",
              "\n",
              "<style>\n",
              "  .colab-df-quickchart {\n",
              "      --bg-color: #E8F0FE;\n",
              "      --fill-color: #1967D2;\n",
              "      --hover-bg-color: #E2EBFA;\n",
              "      --hover-fill-color: #174EA6;\n",
              "      --disabled-fill-color: #AAA;\n",
              "      --disabled-bg-color: #DDD;\n",
              "  }\n",
              "\n",
              "  [theme=dark] .colab-df-quickchart {\n",
              "      --bg-color: #3B4455;\n",
              "      --fill-color: #D2E3FC;\n",
              "      --hover-bg-color: #434B5C;\n",
              "      --hover-fill-color: #FFFFFF;\n",
              "      --disabled-bg-color: #3B4455;\n",
              "      --disabled-fill-color: #666;\n",
              "  }\n",
              "\n",
              "  .colab-df-quickchart {\n",
              "    background-color: var(--bg-color);\n",
              "    border: none;\n",
              "    border-radius: 50%;\n",
              "    cursor: pointer;\n",
              "    display: none;\n",
              "    fill: var(--fill-color);\n",
              "    height: 32px;\n",
              "    padding: 0;\n",
              "    width: 32px;\n",
              "  }\n",
              "\n",
              "  .colab-df-quickchart:hover {\n",
              "    background-color: var(--hover-bg-color);\n",
              "    box-shadow: 0 1px 2px rgba(60, 64, 67, 0.3), 0 1px 3px 1px rgba(60, 64, 67, 0.15);\n",
              "    fill: var(--button-hover-fill-color);\n",
              "  }\n",
              "\n",
              "  .colab-df-quickchart-complete:disabled,\n",
              "  .colab-df-quickchart-complete:disabled:hover {\n",
              "    background-color: var(--disabled-bg-color);\n",
              "    fill: var(--disabled-fill-color);\n",
              "    box-shadow: none;\n",
              "  }\n",
              "\n",
              "  .colab-df-spinner {\n",
              "    border: 2px solid var(--fill-color);\n",
              "    border-color: transparent;\n",
              "    border-bottom-color: var(--fill-color);\n",
              "    animation:\n",
              "      spin 1s steps(1) infinite;\n",
              "  }\n",
              "\n",
              "  @keyframes spin {\n",
              "    0% {\n",
              "      border-color: transparent;\n",
              "      border-bottom-color: var(--fill-color);\n",
              "      border-left-color: var(--fill-color);\n",
              "    }\n",
              "    20% {\n",
              "      border-color: transparent;\n",
              "      border-left-color: var(--fill-color);\n",
              "      border-top-color: var(--fill-color);\n",
              "    }\n",
              "    30% {\n",
              "      border-color: transparent;\n",
              "      border-left-color: var(--fill-color);\n",
              "      border-top-color: var(--fill-color);\n",
              "      border-right-color: var(--fill-color);\n",
              "    }\n",
              "    40% {\n",
              "      border-color: transparent;\n",
              "      border-right-color: var(--fill-color);\n",
              "      border-top-color: var(--fill-color);\n",
              "    }\n",
              "    60% {\n",
              "      border-color: transparent;\n",
              "      border-right-color: var(--fill-color);\n",
              "    }\n",
              "    80% {\n",
              "      border-color: transparent;\n",
              "      border-right-color: var(--fill-color);\n",
              "      border-bottom-color: var(--fill-color);\n",
              "    }\n",
              "    90% {\n",
              "      border-color: transparent;\n",
              "      border-bottom-color: var(--fill-color);\n",
              "    }\n",
              "  }\n",
              "</style>\n",
              "\n",
              "  <script>\n",
              "    async function quickchart(key) {\n",
              "      const quickchartButtonEl =\n",
              "        document.querySelector('#' + key + ' button');\n",
              "      quickchartButtonEl.disabled = true;  // To prevent multiple clicks.\n",
              "      quickchartButtonEl.classList.add('colab-df-spinner');\n",
              "      try {\n",
              "        const charts = await google.colab.kernel.invokeFunction(\n",
              "            'suggestCharts', [key], {});\n",
              "      } catch (error) {\n",
              "        console.error('Error during call to suggestCharts:', error);\n",
              "      }\n",
              "      quickchartButtonEl.classList.remove('colab-df-spinner');\n",
              "      quickchartButtonEl.classList.add('colab-df-quickchart-complete');\n",
              "    }\n",
              "    (() => {\n",
              "      let quickchartButtonEl =\n",
              "        document.querySelector('#df-4a8b299d-3a49-42c5-ad0c-48836e85a557 button');\n",
              "      quickchartButtonEl.style.display =\n",
              "        google.colab.kernel.accessAllowed ? 'block' : 'none';\n",
              "    })();\n",
              "  </script>\n",
              "</div>\n",
              "    </div>\n",
              "  </div>\n"
            ]
          },
          "metadata": {},
          "execution_count": 119
        }
      ]
    },
    {
      "cell_type": "markdown",
      "source": [
        "## 6. KNN\n",
        "\n",
        "  - K Nearest Neighbors:\n",
        "\n",
        "  ![knn.webp](data:image/webp;base64,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)"
      ],
      "metadata": {
        "id": "Vu1iIZTQQHgx"
      }
    },
    {
      "cell_type": "markdown",
      "source": [
        "- k=3 :구해야될 값 근처에 3개의 값으로 원을 그려봄 -> 그림에선 class B 가 확률이 높음 (1개<2개)"
      ],
      "metadata": {
        "id": "cwpMI7EpQW3W"
      }
    },
    {
      "cell_type": "code",
      "source": [
        "df2=df[[\"MasVnrArea\"]].copy()"
      ],
      "metadata": {
        "id": "iN4eKHo1RJPX"
      },
      "execution_count": null,
      "outputs": []
    },
    {
      "cell_type": "code",
      "source": [
        "df2.isnull().sum()"
      ],
      "metadata": {
        "colab": {
          "base_uri": "https://localhost:8080/"
        },
        "id": "xv79GUcZRTKu",
        "outputId": "872412b9-826e-4ad7-c5ae-7968b9b96bac"
      },
      "execution_count": null,
      "outputs": [
        {
          "output_type": "execute_result",
          "data": {
            "text/plain": [
              "MasVnrArea    8\n",
              "dtype: int64"
            ]
          },
          "metadata": {},
          "execution_count": 130
        }
      ]
    },
    {
      "cell_type": "code",
      "source": [
        "df2[\"MasVnrArea\"]=df2[\"MasVnrArea\"].isnull()"
      ],
      "metadata": {
        "id": "6myd_tlmRxfv"
      },
      "execution_count": null,
      "outputs": []
    },
    {
      "cell_type": "code",
      "source": [
        "from sklearn.impute import KNNImputer"
      ],
      "metadata": {
        "id": "gMFDq9iTRZA7"
      },
      "execution_count": null,
      "outputs": []
    },
    {
      "cell_type": "code",
      "source": [
        "imputer=KNNImputer(n_neighbors=3)\n",
        "imputer_data=imputer.fit_transform(df2)\n",
        "df2.info()"
      ],
      "metadata": {
        "colab": {
          "base_uri": "https://localhost:8080/"
        },
        "id": "QqPipuXqRdnz",
        "outputId": "44b9ee07-8824-47f0-e36f-dacd4566b336"
      },
      "execution_count": null,
      "outputs": [
        {
          "output_type": "stream",
          "name": "stdout",
          "text": [
            "<class 'pandas.core.frame.DataFrame'>\n",
            "RangeIndex: 1460 entries, 0 to 1459\n",
            "Data columns (total 1 columns):\n",
            " #   Column      Non-Null Count  Dtype\n",
            "---  ------      --------------  -----\n",
            " 0   MasVnrArea  1460 non-null   bool \n",
            "dtypes: bool(1)\n",
            "memory usage: 1.6 KB\n"
          ]
        }
      ]
    },
    {
      "cell_type": "markdown",
      "source": [
        "### ffill, bfill 활용하여 결측치 채워보기\n",
        "\n",
        "  - forward value\n",
        "  - backward **value**\n"
      ],
      "metadata": {
        "id": "8yXO3j7PRsHc"
      }
    },
    {
      "cell_type": "code",
      "source": [
        "df[\"GarageType\"].unique()"
      ],
      "metadata": {
        "colab": {
          "base_uri": "https://localhost:8080/"
        },
        "id": "DEfTACKdSr8n",
        "outputId": "7047fb61-eb33-4172-be41-1526e960055a"
      },
      "execution_count": null,
      "outputs": [
        {
          "output_type": "execute_result",
          "data": {
            "text/plain": [
              "array(['Attchd', 'Detchd', 'BuiltIn', 'CarPort', nan, 'Basment', '2Types'],\n",
              "      dtype=object)"
            ]
          },
          "metadata": {},
          "execution_count": 136
        }
      ]
    },
    {
      "cell_type": "code",
      "source": [
        "df[\"GarageType\"]=df[\"GarageType\"].fillna(method=\"ffill\")\n",
        "# df[\"GarageType\"]=df[\"GarageType\"].fillna(method=\"bfill\") - 실행 시킬 순 없어서 이렇게..^^"
      ],
      "metadata": {
        "id": "b2ToivO_S-IR"
      },
      "execution_count": null,
      "outputs": []
    },
    {
      "cell_type": "code",
      "source": [
        "df[\"GarageType\"].unique()"
      ],
      "metadata": {
        "colab": {
          "base_uri": "https://localhost:8080/"
        },
        "id": "_xYibB19TI5j",
        "outputId": "46ea1795-33f2-45aa-c613-bbb432f8d938"
      },
      "execution_count": null,
      "outputs": [
        {
          "output_type": "execute_result",
          "data": {
            "text/plain": [
              "array(['Attchd', 'Detchd', 'BuiltIn', 'CarPort', 'Basment', '2Types'],\n",
              "      dtype=object)"
            ]
          },
          "metadata": {},
          "execution_count": 140
        }
      ]
    },
    {
      "cell_type": "markdown",
      "source": [
        "## 7. interpolation\n",
        "\n",
        "- interpolate() method 사용\n",
        "- 시계열 데이터에서 유용\n",
        "\n",
        "  - df[\"column\"].interpolate(method=\"linear\", direction=\"forward\")"
      ],
      "metadata": {
        "id": "qTDDS4jTTMYQ"
      }
    },
    {
      "cell_type": "code",
      "source": [],
      "metadata": {
        "id": "mzgr1WM4TzMk"
      },
      "execution_count": null,
      "outputs": []
    }
  ]
}